{
 "cells": [
  {
   "cell_type": "code",
   "execution_count": 1,
   "metadata": {},
   "outputs": [],
   "source": [
    "import pandas as pd\n",
    "import numpy as np\n",
    "import gc\n",
    "import time\n",
    "from contextlib import contextmanager\n",
    "import lightgbm as lgb\n",
    "import xgboost as xgb\n",
    "from sklearn.metrics import roc_auc_score, roc_curve, f1_score\n",
    "from sklearn.model_selection import KFold, StratifiedKFold\n",
    "import matplotlib.pyplot as plt\n",
    "import seaborn as sns\n",
    "import warnings\n",
    "import category_encoders as ce\n",
    "import pickle\n",
    "from sklearn.svm import SVC\n",
    "warnings.simplefilter(action='ignore', category=FutureWarning)"
   ]
  },
  {
   "cell_type": "code",
   "execution_count": 2,
   "metadata": {},
   "outputs": [],
   "source": [
    "train = pd.read_csv(\"../data/sample_train.txt\", delimiter=\"\\t\")\n",
    "test = pd.read_csv(\"../data/test_id.txt\", delimiter=\"\\t\")"
   ]
  },
  {
   "cell_type": "code",
   "execution_count": 3,
   "metadata": {},
   "outputs": [],
   "source": [
    "df = pd.concat([train, test], axis=0)"
   ]
  },
  {
   "cell_type": "code",
   "execution_count": 4,
   "metadata": {},
   "outputs": [],
   "source": [
    "risk = pd.read_csv(\"../features/risk/risk.csv\")\n",
    "df = df.merge(risk, on=\"id\", how=\"left\")"
   ]
  },
  {
   "cell_type": "code",
   "execution_count": 5,
   "metadata": {},
   "outputs": [],
   "source": [
    "symbol = pd.read_csv(\"../features/symbol/symbol.csv\")\n",
    "df = df.merge(symbol, on=\"id\", how=\"left\")"
   ]
  },
  {
   "cell_type": "code",
   "execution_count": 6,
   "metadata": {},
   "outputs": [],
   "source": [
    "# dp_emb = pd.read_csv(\"../features/graph/graph_filtered_64.emb\")\n",
    "# df = df.merge(dp_emb, on=\"id\", how=\"left\")"
   ]
  },
  {
   "cell_type": "code",
   "execution_count": 7,
   "metadata": {},
   "outputs": [],
   "source": [
    "dp_emb = pd.read_csv(\"../features/graph/deepwalk_256_filtered.emb\")\n",
    "df = df.merge(dp_emb, on=\"id\", how=\"left\")"
   ]
  },
  {
   "cell_type": "code",
   "execution_count": 8,
   "metadata": {},
   "outputs": [
    {
     "data": {
      "text/plain": [
       "(28442, 257)"
      ]
     },
     "execution_count": 8,
     "metadata": {},
     "output_type": "execute_result"
    }
   ],
   "source": [
    "dp_emb.shape"
   ]
  },
  {
   "cell_type": "code",
   "execution_count": 9,
   "metadata": {},
   "outputs": [],
   "source": [
    "# nv_emb = pd.read_csv(\"../data/edge/node2vec_64.emb\")\n",
    "# df = df.merge(nv_emb, on=\"id\", how=\"left\")"
   ]
  },
  {
   "cell_type": "code",
   "execution_count": 10,
   "metadata": {},
   "outputs": [],
   "source": [
    "graph_info = pd.read_csv(\"../features/graph/graph_info.csv\")\n",
    "df = df.merge(graph_info, on=\"id\", how=\"left\")"
   ]
  },
  {
   "cell_type": "code",
   "execution_count": 11,
   "metadata": {},
   "outputs": [],
   "source": [
    "# app_pca = pd.read_csv(\"../data/app/app_pca_16.csv\")\n",
    "# df = df.merge(app_pca, on=\"id\", how=\"left\")\n",
    "\n",
    "app_lda = pd.read_csv(\"../features/app/app_lda_16.csv\")\n",
    "df = df.merge(app_lda, on=\"id\", how=\"left\")\n",
    "\n",
    "# app_lda = pd.read_csv(\"../data1/app/app_lda_16.csv\")\n",
    "# df = df.merge(app_lda, on=\"id\", how=\"left\")\n",
    "\n",
    "# app_nmf = pd.read_csv(\"../data/app/app_nmf_16.csv\")\n",
    "# df = df.merge(app_nmf, on=\"id\", how=\"left\")"
   ]
  },
  {
   "cell_type": "code",
   "execution_count": 12,
   "metadata": {},
   "outputs": [],
   "source": [
    "# app_info = pd.read_csv(\"../features/app/app_info.csv\")\n",
    "# df = df.merge(app_info, on=\"id\", how=\"left\")"
   ]
  },
  {
   "cell_type": "markdown",
   "metadata": {},
   "source": [
    "app_graph"
   ]
  },
  {
   "cell_type": "code",
   "execution_count": 13,
   "metadata": {},
   "outputs": [],
   "source": [
    "# to_pca = pd.read_csv(\"../features/app_graph/to_app_pca_mean.csv\")\n",
    "# from_pca = pd.read_csv(\"../features/app_graph/from_app_pca_mean.csv\")\n",
    "\n",
    "# df = df.merge(to_pca, on=\"id\", how=\"left\")\n",
    "# df = df.merge(from_pca, on=\"id\", how=\"left\")\n",
    "\n",
    "to_pca = pd.read_csv(\"../features/app_graph/to_app_pca_num_mean.csv\")\n",
    "from_pca = pd.read_csv(\"../features/app_graph/from_app_pca_num_mean.csv\")\n",
    "\n",
    "df = df.merge(to_pca, on=\"id\", how=\"left\")\n",
    "df = df.merge(from_pca, on=\"id\", how=\"left\")\n",
    "\n",
    "to_pca = pd.read_csv(\"../features/app_graph/to_app_pca_weight_mean.csv\")\n",
    "from_pca = pd.read_csv(\"../features/app_graph/from_app_pca_weight_mean.csv\")\n",
    "\n",
    "df = df.merge(to_pca, on=\"id\", how=\"left\")\n",
    "df = df.merge(from_pca, on=\"id\", how=\"left\")"
   ]
  },
  {
   "cell_type": "code",
   "execution_count": 14,
   "metadata": {},
   "outputs": [],
   "source": [
    "# to_pca_nmf = pd.read_csv(\"../features/app_graph/to_app_nmf_mean.csv\")\n",
    "# from_pca_nmf = pd.read_csv(\"../features/app_graph/from_app_nmf_mean.csv\")\n",
    "\n",
    "# df = df.merge(to_pca_nmf, on=\"id\", how=\"left\")\n",
    "# df = df.merge(from_pca_nmf, on=\"id\", how=\"left\")\n",
    "\n",
    "# to_pca_nmf = pd.read_csv(\"../features/app_graph/to_app_nmf_num_mean.csv\")\n",
    "# from_pca_nmf = pd.read_csv(\"../features/app_graph/from_app_nmf_num_mean.csv\")\n",
    "\n",
    "# df = df.merge(to_pca_nmf, on=\"id\", how=\"left\")\n",
    "# df = df.merge(from_pca_nmf, on=\"id\", how=\"left\")\n",
    "\n",
    "# to_pca_nmf = pd.read_csv(\"../features/app_graph/to_app_nmf_weight_mean.csv\")\n",
    "# from_pca_nmf = pd.read_csv(\"../features/app_graph/from_app_nmf_weight_mean.csv\")\n",
    "\n",
    "# df = df.merge(to_pca_nmf, on=\"id\", how=\"left\")\n",
    "# df = df.merge(from_pca_nmf, on=\"id\", how=\"left\")"
   ]
  },
  {
   "cell_type": "code",
   "execution_count": 15,
   "metadata": {},
   "outputs": [],
   "source": [
    "# to_lda = pd.read_csv(\"../features/app_graph/to_app_lda_mean.csv\")\n",
    "# from_lda = pd.read_csv(\"../features/app_graph/from_app_lda_mean.csv\")\n",
    "\n",
    "# df = df.merge(to_lda, on=\"id\", how=\"left\")\n",
    "# df = df.merge(from_lda, on=\"id\", how=\"left\")\n",
    "\n",
    "# to_lda = pd.read_csv(\"../features/app_graph/to_app_lda_num_mean.csv\")\n",
    "# from_lda = pd.read_csv(\"../features/app_graph/from_app_lda_num_mean.csv\")\n",
    "\n",
    "# df = df.merge(to_lda, on=\"id\", how=\"left\")\n",
    "# df = df.merge(from_lda, on=\"id\", how=\"left\")\n",
    "\n",
    "# to_lda = pd.read_csv(\"../features/app_graph/to_app_lda_weight_mean.csv\")\n",
    "# from_lda = pd.read_csv(\"../features/app_graph/from_app_lda_weight_mean.csv\")\n",
    "\n",
    "# df = df.merge(to_lda, on=\"id\", how=\"left\")\n",
    "# df = df.merge(from_lda, on=\"id\", how=\"left\")"
   ]
  },
  {
   "cell_type": "markdown",
   "metadata": {},
   "source": [
    "risk_graph"
   ]
  },
  {
   "cell_type": "code",
   "execution_count": 16,
   "metadata": {},
   "outputs": [],
   "source": [
    "# to_risk = pd.read_csv(\"../features/risk_graph/to_risk_mean.csv\")\n",
    "# from_risk = pd.read_csv(\"../features/risk_graph/from_risk_mean.csv\")\n",
    "\n",
    "# df = df.merge(to_risk, on=\"id\", how=\"left\")\n",
    "# df = df.merge(from_risk, on=\"id\", how=\"left\")\n",
    "\n",
    "to_risk = pd.read_csv(\"../features/risk_graph/to_risk_num_mean.csv\")\n",
    "from_risk = pd.read_csv(\"../features/risk_graph/from_risk_num_mean.csv\")\n",
    "\n",
    "df = df.merge(to_risk, on=\"id\", how=\"left\")\n",
    "df = df.merge(from_risk, on=\"id\", how=\"left\")\n",
    "\n",
    "to_risk = pd.read_csv(\"../features/risk_graph/to_risk_weight_mean.csv\")\n",
    "from_risk = pd.read_csv(\"../features/risk_graph/from_risk_weight_mean.csv\")\n",
    "\n",
    "df = df.merge(to_risk, on=\"id\", how=\"left\")\n",
    "df = df.merge(from_risk, on=\"id\", how=\"left\")\n",
    "\n",
    "# to_risk = pd.read_csv(\"../features/risk_graph/to_risk_sum.csv\")\n",
    "# from_risk = pd.read_csv(\"../features/risk_graph/from_risk_sum.csv\")\n",
    "\n",
    "# df = df.merge(to_risk, on=\"id\", how=\"left\")\n",
    "# df = df.merge(from_risk, on=\"id\", how=\"left\")\n",
    "\n",
    "to_risk = pd.read_csv(\"../features/risk_graph/to_risk_num_sum.csv\")\n",
    "from_risk = pd.read_csv(\"../features/risk_graph/from_risk_num_sum.csv\")\n",
    "\n",
    "df = df.merge(to_risk, on=\"id\", how=\"left\")\n",
    "df = df.merge(from_risk, on=\"id\", how=\"left\")\n",
    "\n",
    "to_risk = pd.read_csv(\"../features/risk_graph/to_risk_weight_sum.csv\")\n",
    "from_risk = pd.read_csv(\"../features/risk_graph/from_risk_weight_sum.csv\")\n",
    "\n",
    "df = df.merge(to_risk, on=\"id\", how=\"left\")\n",
    "df = df.merge(from_risk, on=\"id\", how=\"left\")"
   ]
  },
  {
   "cell_type": "markdown",
   "metadata": {},
   "source": [
    "symbol_graph"
   ]
  },
  {
   "cell_type": "code",
   "execution_count": 17,
   "metadata": {},
   "outputs": [],
   "source": [
    "# to_cat_num = pd.read_csv(\"../features/symbol_graph/to_symbol_sum.csv\")\n",
    "# from_cat_num = pd.read_csv(\"../features/symbol_graph/from_symbol_sum.csv\")\n",
    "\n",
    "# df = df.merge(to_cat_num, on=\"id\", how=\"left\")\n",
    "# df = df.merge(from_cat_num, on=\"id\", how=\"left\")\n",
    "\n",
    "# to_cat_num = pd.read_csv(\"../features/symbol_graph/to_symbol_num_sum.csv\")\n",
    "# from_cat_num = pd.read_csv(\"../features/symbol_graph/from_symbol_num_sum.csv\")\n",
    "\n",
    "# df = df.merge(to_cat_num, on=\"id\", how=\"left\")\n",
    "# df = df.merge(from_cat_num, on=\"id\", how=\"left\")\n",
    "\n",
    "# to_cat_weight = pd.read_csv(\"../features/symbol_graph/to_symbol_weight_sum.csv\")\n",
    "# from_cat_weight = pd.read_csv(\"../features/symbol_graph/from_symbol_weight_sum.csv\")\n",
    "\n",
    "# df = df.merge(to_cat_weight, on=\"id\", how=\"left\")\n",
    "# df = df.merge(from_cat_weight, on=\"id\", how=\"left\")\n",
    "\n",
    "# to_cat_num = pd.read_csv(\"../features/symbol_graph/to_symbol_mean.csv\")\n",
    "# from_cat_num = pd.read_csv(\"../features/symbol_graph/from_symbol_mean.csv\")\n",
    "\n",
    "# df = df.merge(to_cat_num, on=\"id\", how=\"left\")\n",
    "# df = df.merge(from_cat_num, on=\"id\", how=\"left\")\n",
    "\n",
    "to_cat_num = pd.read_csv(\"../features/symbol_graph/to_symbol_num_mean.csv\")\n",
    "from_cat_num = pd.read_csv(\"../features/symbol_graph/from_symbol_num_mean.csv\")\n",
    "\n",
    "df = df.merge(to_cat_num, on=\"id\", how=\"left\")\n",
    "df = df.merge(from_cat_num, on=\"id\", how=\"left\")\n",
    "\n",
    "to_cat_weight = pd.read_csv(\"../features/symbol_graph/to_symbol_weight_mean.csv\")\n",
    "from_cat_weight = pd.read_csv(\"../features/symbol_graph/from_symbol_weight_mean.csv\")\n",
    "\n",
    "df = df.merge(to_cat_weight, on=\"id\", how=\"left\")\n",
    "df = df.merge(from_cat_weight, on=\"id\", how=\"left\")"
   ]
  },
  {
   "cell_type": "markdown",
   "metadata": {},
   "source": [
    "knn"
   ]
  },
  {
   "cell_type": "code",
   "execution_count": 18,
   "metadata": {},
   "outputs": [],
   "source": [
    "# dp_knn = pd.read_csv(\"../features/knn/dp_knn_3.csv\")\n",
    "# df = df.merge(dp_knn, on=\"id\", how=\"left\")\n",
    "\n",
    "# dp_knn = pd.read_csv(\"../features/knn/dp_knn_10.csv\")\n",
    "# df = df.merge(dp_knn, on=\"id\", how=\"left\")\n",
    "\n",
    "# dp_knn = pd.read_csv(\"../features/knn/dp_knn_30.csv\")\n",
    "# df = df.merge(dp_knn, on=\"id\", how=\"left\")\n",
    "\n",
    "# dp_knn = pd.read_csv(\"../features/knn/dp_knn_100.csv\")\n",
    "# df = df.merge(dp_knn, on=\"id\", how=\"left\")\n",
    "\n",
    "# dp_knn = pd.read_csv(\"../features/knn/dp_knn_300.csv\")\n",
    "# df = df.merge(dp_knn, on=\"id\", how=\"left\")"
   ]
  },
  {
   "cell_type": "markdown",
   "metadata": {},
   "source": [
    "中心性"
   ]
  },
  {
   "cell_type": "code",
   "execution_count": 19,
   "metadata": {},
   "outputs": [],
   "source": [
    "pr = pd.read_csv(\"../features/graph/pagerank.csv\")\n",
    "df = df.merge(pr, on=\"id\", how=\"left\")"
   ]
  },
  {
   "cell_type": "code",
   "execution_count": 20,
   "metadata": {},
   "outputs": [],
   "source": [
    "for d in [\"to\", \"from\"]:\n",
    "    for w in ['', '_num', '_weight']:\n",
    "        for f in ['sum', 'mean']:\n",
    "            a = pd.read_csv(\"../features/graph/%s_pagerank%s_%s.csv\" % (d, w, f))\n",
    "            df = df.merge(a, on=\"id\", how=\"left\")"
   ]
  },
  {
   "cell_type": "code",
   "execution_count": 21,
   "metadata": {},
   "outputs": [],
   "source": [
    "hits = pd.read_csv(\"../features/graph/hits.csv\")\n",
    "df = df.merge(hits, on=\"id\", how=\"left\")\n",
    "\n",
    "for d in [\"to\", \"from\"]:\n",
    "    for w in ['', '_num', '_weight']:\n",
    "        for f in ['sum', 'mean']:\n",
    "            a = pd.read_csv(\"../features/graph/%s_hits%s_%s.csv\" % (d, w, f))\n",
    "            df = df.merge(a, on=\"id\", how=\"left\")"
   ]
  },
  {
   "cell_type": "markdown",
   "metadata": {},
   "source": [
    "二度联系人"
   ]
  },
  {
   "cell_type": "code",
   "execution_count": 22,
   "metadata": {},
   "outputs": [],
   "source": [
    "# 联系人个数\n",
    "for d1 in [\"from\", \"to\"]:\n",
    "    for d2 in [\"from\", \"to\"]:\n",
    "        for t in [\"\", \"_num\", \"_weight\"]:\n",
    "            for f in [\"sum\", \"mean\"]:\n",
    "                a = pd.read_csv(\"../features/graph/%s_d2_%s%s_%s.csv\" % (d1, d2, t, f))\n",
    "                df = df.merge(a, on=\"id\", how=\"left\")"
   ]
  },
  {
   "cell_type": "code",
   "execution_count": 23,
   "metadata": {},
   "outputs": [],
   "source": [
    "# 二度联系人PageRank值\n",
    "for d1 in [\"from\", \"to\"]:\n",
    "    for d2 in [\"from\", \"to\"]:\n",
    "        for t in [\"num\", \"weight\"]:\n",
    "            for f in [\"mean\"]:\n",
    "                a = pd.read_csv(\"../features/graph/%s_pg_%s_%s_%s_%s_%s.csv\" % (d1, d2, t, f, t, f))\n",
    "                df = df.merge(a, on=\"id\", how=\"left\")"
   ]
  },
  {
   "cell_type": "code",
   "execution_count": 24,
   "metadata": {},
   "outputs": [],
   "source": [
    "# for d1 in [\"from\", \"to\"]:\n",
    "#     for d2 in [\"from\", \"to\"]:\n",
    "#         for t in [\"num\", \"weight\"]:\n",
    "#             for f in [\"sum\", \"mean\"]:\n",
    "#                 a = pd.read_csv(\"../features/graph/%s_hits_%s_%s_%s_%s_%s.csv\" % (d1, d2, t, f, t, f))\n",
    "#                 df = df.merge(a, on=\"id\", how=\"left\")"
   ]
  },
  {
   "cell_type": "code",
   "execution_count": 25,
   "metadata": {},
   "outputs": [],
   "source": [
    "def  process_feature(train_x, valid_x, test_df):\n",
    "    result = []\n",
    "    drop_cols = ['id','label']\n",
    "    for df in [train_x, valid_x, test_df]:\n",
    "        result.append(df.drop(drop_cols, axis=1))\n",
    "    return result "
   ]
  },
  {
   "cell_type": "code",
   "execution_count": 26,
   "metadata": {},
   "outputs": [],
   "source": [
    "import os\n",
    "def cv(df, num_folds, param, model_dir, stratified=True, debug=False):\n",
    "    if not os.path.exists(model_dir):\n",
    "        os.mkdir(model_dir)\n",
    "    train_df = df[df.label.notnull()]\n",
    "    test_df = df[df.label.isnull()]\n",
    "    \n",
    "    seed = 178\n",
    "    if \"seed\" in param: \n",
    "        seed = param[\"seed\"]\n",
    "        del param['seed']\n",
    "    if stratified:\n",
    "        folds = StratifiedKFold(n_splits= num_folds, shuffle=True, random_state=seed)\n",
    "    else:\n",
    "        folds = KFold(n_splits= num_folds, shuffle=True, random_state=seed)\n",
    "    oof_preds = np.zeros(train_df.shape[0])\n",
    "    all_test_preds = []    \n",
    "    feature_importance_df = pd.DataFrame()\n",
    "    for n_fold, (train_idx, valid_idx) in enumerate(folds.split(train_df, train_df['label'])):\n",
    "        train_x, train_y = train_df.iloc[train_idx], train_df['label'].iloc[train_idx]\n",
    "        valid_x, valid_y = train_df.iloc[valid_idx], train_df['label'].iloc[valid_idx]\n",
    "        fold_preds = test_df[[\"id\"]]\n",
    "        \n",
    "        train_x, valid_x, test = process_feature(train_x, valid_x, test_df)\n",
    "        if n_fold == 0:\n",
    "            print(train_x.shape, valid_x.shape, test.shape)\n",
    "        \n",
    "        train_data = lgb.Dataset(train_x, label=train_y)\n",
    "        validation_data = lgb.Dataset(valid_x, label=valid_y)\n",
    "\n",
    "        clf=lgb.train(params,\n",
    "                      train_data,\n",
    "                      num_boost_round=10000,\n",
    "                      valid_sets=[train_data, validation_data],\n",
    "                      valid_names=[\"train\", \"valid\"],\n",
    "                      early_stopping_rounds=100,\n",
    "                      verbose_eval=100)\n",
    "\n",
    "        valid_preds = clf.predict(valid_x, num_iteration=clf.best_iteration)\n",
    "        test_preds = clf.predict(test, num_iteration=clf.best_iteration)\n",
    "\n",
    "        fold_preds['prob'] = test_preds\n",
    "        fold_preds['fold_id'] = n_fold + 1\n",
    "        all_test_preds.append(fold_preds)\n",
    "        \n",
    "        oof_preds[valid_idx] = valid_preds\n",
    "        \n",
    "        print('Fold %2d AUC : %.6f' % (n_fold + 1, roc_auc_score(valid_y, valid_preds)))\n",
    "        \n",
    "        del clf, train_x, train_y, valid_x, valid_y\n",
    "        gc.collect()\n",
    "    full_auc = roc_auc_score(train_df['label'], oof_preds)\n",
    "    print('Full AUC score %.6f' % full_auc)\n",
    "    \n",
    "    if not debug:\n",
    "        train_df[\"prob\"] = oof_preds\n",
    "        train_df[['id', 'prob']].to_csv(model_dir + \"pred_train.csv\", index= False)\n",
    "\n",
    "        all_test_preds = pd.concat(all_test_preds, axis=0)\n",
    "        all_test_preds.to_csv(model_dir + \"all_test_preds.csv\", index=False)\n",
    "        \n",
    "        sub = pd.DataFrame()\n",
    "        sub['id'] = all_test_preds.id.unique()\n",
    "        sub.set_index(\"id\", inplace=True)\n",
    "        sub[\"prob\"] = all_test_preds.groupby(\"id\").prob.mean()\n",
    "        sub.reset_index().to_csv(model_dir + \"sub.txt\", index=False)\n",
    "    return full_auc"
   ]
  },
  {
   "cell_type": "code",
   "execution_count": 30,
   "metadata": {},
   "outputs": [
    {
     "name": "stdout",
     "output_type": "stream",
     "text": [
      "(15166, 692) (3793, 692) (6000, 692)\n",
      "Training until validation scores don't improve for 100 rounds.\n",
      "[100]\ttrain's auc: 0.853661\tvalid's auc: 0.654176\n",
      "[200]\ttrain's auc: 0.906743\tvalid's auc: 0.664989\n",
      "[300]\ttrain's auc: 0.935357\tvalid's auc: 0.667012\n",
      "[400]\ttrain's auc: 0.951788\tvalid's auc: 0.670769\n",
      "[500]\ttrain's auc: 0.964382\tvalid's auc: 0.672308\n",
      "[600]\ttrain's auc: 0.973723\tvalid's auc: 0.672276\n",
      "[700]\ttrain's auc: 0.979226\tvalid's auc: 0.674762\n",
      "[800]\ttrain's auc: 0.983855\tvalid's auc: 0.673806\n",
      "Early stopping, best iteration is:\n",
      "[722]\ttrain's auc: 0.980246\tvalid's auc: 0.675531\n"
     ]
    },
    {
     "name": "stderr",
     "output_type": "stream",
     "text": [
      "/home/LAB/yanhao/anaconda3/lib/python3.6/site-packages/ipykernel_launcher.py:39: SettingWithCopyWarning: \n",
      "A value is trying to be set on a copy of a slice from a DataFrame.\n",
      "Try using .loc[row_indexer,col_indexer] = value instead\n",
      "\n",
      "See the caveats in the documentation: http://pandas.pydata.org/pandas-docs/stable/indexing.html#indexing-view-versus-copy\n",
      "/home/LAB/yanhao/anaconda3/lib/python3.6/site-packages/ipykernel_launcher.py:40: SettingWithCopyWarning: \n",
      "A value is trying to be set on a copy of a slice from a DataFrame.\n",
      "Try using .loc[row_indexer,col_indexer] = value instead\n",
      "\n",
      "See the caveats in the documentation: http://pandas.pydata.org/pandas-docs/stable/indexing.html#indexing-view-versus-copy\n"
     ]
    },
    {
     "name": "stdout",
     "output_type": "stream",
     "text": [
      "Fold  1 AUC : 0.675531\n",
      "Training until validation scores don't improve for 100 rounds.\n",
      "[100]\ttrain's auc: 0.847351\tvalid's auc: 0.657162\n",
      "[200]\ttrain's auc: 0.901504\tvalid's auc: 0.672748\n",
      "[300]\ttrain's auc: 0.930933\tvalid's auc: 0.678723\n",
      "[400]\ttrain's auc: 0.950797\tvalid's auc: 0.679203\n",
      "[500]\ttrain's auc: 0.964722\tvalid's auc: 0.682059\n",
      "[600]\ttrain's auc: 0.973597\tvalid's auc: 0.683405\n",
      "[700]\ttrain's auc: 0.979807\tvalid's auc: 0.684176\n",
      "[800]\ttrain's auc: 0.983714\tvalid's auc: 0.687134\n",
      "[900]\ttrain's auc: 0.987407\tvalid's auc: 0.685959\n",
      "[1000]\ttrain's auc: 0.990062\tvalid's auc: 0.686448\n",
      "Early stopping, best iteration is:\n",
      "[968]\ttrain's auc: 0.989184\tvalid's auc: 0.687782\n",
      "Fold  2 AUC : 0.687782\n",
      "Training until validation scores don't improve for 100 rounds.\n",
      "[100]\ttrain's auc: 0.834631\tvalid's auc: 0.683912\n",
      "[200]\ttrain's auc: 0.877965\tvalid's auc: 0.696431\n",
      "[300]\ttrain's auc: 0.89945\tvalid's auc: 0.702992\n",
      "[400]\ttrain's auc: 0.908603\tvalid's auc: 0.704318\n",
      "[500]\ttrain's auc: 0.927063\tvalid's auc: 0.709079\n",
      "[600]\ttrain's auc: 0.943058\tvalid's auc: 0.711015\n",
      "[700]\ttrain's auc: 0.949886\tvalid's auc: 0.712728\n",
      "Early stopping, best iteration is:\n",
      "[699]\ttrain's auc: 0.949955\tvalid's auc: 0.713002\n",
      "Fold  3 AUC : 0.713002\n",
      "Training until validation scores don't improve for 100 rounds.\n",
      "[100]\ttrain's auc: 0.840378\tvalid's auc: 0.640403\n",
      "[200]\ttrain's auc: 0.900431\tvalid's auc: 0.661615\n",
      "[300]\ttrain's auc: 0.931895\tvalid's auc: 0.670438\n",
      "[400]\ttrain's auc: 0.951081\tvalid's auc: 0.677298\n",
      "[500]\ttrain's auc: 0.963925\tvalid's auc: 0.679586\n",
      "[600]\ttrain's auc: 0.973277\tvalid's auc: 0.680293\n",
      "[700]\ttrain's auc: 0.979749\tvalid's auc: 0.681339\n",
      "Early stopping, best iteration is:\n",
      "[673]\ttrain's auc: 0.978085\tvalid's auc: 0.682224\n",
      "Fold  4 AUC : 0.682224\n",
      "Training until validation scores don't improve for 100 rounds.\n",
      "[100]\ttrain's auc: 0.844499\tvalid's auc: 0.65644\n",
      "[200]\ttrain's auc: 0.899937\tvalid's auc: 0.681397\n",
      "[300]\ttrain's auc: 0.928451\tvalid's auc: 0.690411\n",
      "[400]\ttrain's auc: 0.947734\tvalid's auc: 0.691274\n",
      "[500]\ttrain's auc: 0.962065\tvalid's auc: 0.694684\n",
      "[600]\ttrain's auc: 0.97132\tvalid's auc: 0.699203\n",
      "[700]\ttrain's auc: 0.97797\tvalid's auc: 0.700329\n",
      "[800]\ttrain's auc: 0.983054\tvalid's auc: 0.70196\n",
      "[900]\ttrain's auc: 0.986919\tvalid's auc: 0.702516\n",
      "[1000]\ttrain's auc: 0.989347\tvalid's auc: 0.702875\n",
      "[1100]\ttrain's auc: 0.99149\tvalid's auc: 0.704049\n",
      "[1200]\ttrain's auc: 0.993029\tvalid's auc: 0.704422\n",
      "Early stopping, best iteration is:\n",
      "[1140]\ttrain's auc: 0.992267\tvalid's auc: 0.705152\n",
      "Fold  5 AUC : 0.705152\n",
      "Full AUC score 0.692391\n"
     ]
    },
    {
     "name": "stderr",
     "output_type": "stream",
     "text": [
      "/home/LAB/yanhao/anaconda3/lib/python3.6/site-packages/ipykernel_launcher.py:53: SettingWithCopyWarning: \n",
      "A value is trying to be set on a copy of a slice from a DataFrame.\n",
      "Try using .loc[row_indexer,col_indexer] = value instead\n",
      "\n",
      "See the caveats in the documentation: http://pandas.pydata.org/pandas-docs/stable/indexing.html#indexing-view-versus-copy\n"
     ]
    },
    {
     "name": "stdout",
     "output_type": "stream",
     "text": [
      "(15166, 692) (3793, 692) (6000, 692)\n",
      "Training until validation scores don't improve for 100 rounds.\n",
      "[100]\ttrain's auc: 0.8306\tvalid's auc: 0.645728\n",
      "[200]\ttrain's auc: 0.88896\tvalid's auc: 0.661354\n",
      "[300]\ttrain's auc: 0.919992\tvalid's auc: 0.666546\n",
      "[400]\ttrain's auc: 0.939654\tvalid's auc: 0.667952\n",
      "[500]\ttrain's auc: 0.952925\tvalid's auc: 0.669842\n",
      "[600]\ttrain's auc: 0.962737\tvalid's auc: 0.670497\n",
      "[700]\ttrain's auc: 0.96925\tvalid's auc: 0.67108\n",
      "[800]\ttrain's auc: 0.975446\tvalid's auc: 0.671137\n",
      "[900]\ttrain's auc: 0.980117\tvalid's auc: 0.673126\n",
      "[1000]\ttrain's auc: 0.982882\tvalid's auc: 0.672272\n",
      "Early stopping, best iteration is:\n",
      "[929]\ttrain's auc: 0.981132\tvalid's auc: 0.674513\n",
      "Fold  1 AUC : 0.674513\n",
      "Training until validation scores don't improve for 100 rounds.\n",
      "[100]\ttrain's auc: 0.827414\tvalid's auc: 0.655286\n",
      "[200]\ttrain's auc: 0.883765\tvalid's auc: 0.676109\n",
      "[300]\ttrain's auc: 0.915889\tvalid's auc: 0.682726\n",
      "[400]\ttrain's auc: 0.937279\tvalid's auc: 0.684657\n",
      "[500]\ttrain's auc: 0.952128\tvalid's auc: 0.686972\n",
      "[600]\ttrain's auc: 0.961198\tvalid's auc: 0.688476\n",
      "[700]\ttrain's auc: 0.969664\tvalid's auc: 0.68757\n",
      "Early stopping, best iteration is:\n",
      "[619]\ttrain's auc: 0.963302\tvalid's auc: 0.689145\n",
      "Fold  2 AUC : 0.689145\n",
      "Training until validation scores don't improve for 100 rounds.\n",
      "[100]\ttrain's auc: 0.818935\tvalid's auc: 0.682076\n",
      "[200]\ttrain's auc: 0.860303\tvalid's auc: 0.696479\n",
      "[300]\ttrain's auc: 0.882489\tvalid's auc: 0.702676\n",
      "[400]\ttrain's auc: 0.892519\tvalid's auc: 0.705492\n",
      "[500]\ttrain's auc: 0.910384\tvalid's auc: 0.708962\n",
      "[600]\ttrain's auc: 0.928852\tvalid's auc: 0.710477\n",
      "[700]\ttrain's auc: 0.93576\tvalid's auc: 0.712949\n",
      "[800]\ttrain's auc: 0.946291\tvalid's auc: 0.709137\n",
      "Early stopping, best iteration is:\n",
      "[717]\ttrain's auc: 0.938184\tvalid's auc: 0.713424\n",
      "Fold  3 AUC : 0.713424\n",
      "Training until validation scores don't improve for 100 rounds.\n",
      "[100]\ttrain's auc: 0.817535\tvalid's auc: 0.641532\n",
      "[200]\ttrain's auc: 0.878972\tvalid's auc: 0.661667\n",
      "[300]\ttrain's auc: 0.914961\tvalid's auc: 0.672815\n",
      "[400]\ttrain's auc: 0.937366\tvalid's auc: 0.680374\n",
      "[500]\ttrain's auc: 0.952369\tvalid's auc: 0.683717\n",
      "[600]\ttrain's auc: 0.961989\tvalid's auc: 0.685186\n",
      "[700]\ttrain's auc: 0.970539\tvalid's auc: 0.684639\n",
      "Early stopping, best iteration is:\n",
      "[603]\ttrain's auc: 0.962355\tvalid's auc: 0.685415\n",
      "Fold  4 AUC : 0.685415\n",
      "Training until validation scores don't improve for 100 rounds.\n",
      "[100]\ttrain's auc: 0.826753\tvalid's auc: 0.654304\n",
      "[200]\ttrain's auc: 0.882678\tvalid's auc: 0.672141\n",
      "[300]\ttrain's auc: 0.915615\tvalid's auc: 0.681651\n",
      "[400]\ttrain's auc: 0.934888\tvalid's auc: 0.685653\n",
      "[500]\ttrain's auc: 0.948995\tvalid's auc: 0.690606\n",
      "[600]\ttrain's auc: 0.960486\tvalid's auc: 0.695234\n",
      "[700]\ttrain's auc: 0.968748\tvalid's auc: 0.696686\n",
      "[800]\ttrain's auc: 0.974864\tvalid's auc: 0.699689\n",
      "[900]\ttrain's auc: 0.979669\tvalid's auc: 0.699285\n",
      "[1000]\ttrain's auc: 0.983226\tvalid's auc: 0.700376\n",
      "Early stopping, best iteration is:\n",
      "[963]\ttrain's auc: 0.981787\tvalid's auc: 0.701302\n",
      "Fold  5 AUC : 0.701302\n",
      "Full AUC score 0.692324\n",
      "(15166, 692) (3793, 692) (6000, 692)\n",
      "Training until validation scores don't improve for 100 rounds.\n",
      "[100]\ttrain's auc: 0.84953\tvalid's auc: 0.647572\n",
      "[200]\ttrain's auc: 0.902476\tvalid's auc: 0.667329\n",
      "[300]\ttrain's auc: 0.93145\tvalid's auc: 0.670225\n",
      "[400]\ttrain's auc: 0.950145\tvalid's auc: 0.672685\n",
      "[500]\ttrain's auc: 0.964114\tvalid's auc: 0.673062\n",
      "[600]\ttrain's auc: 0.97261\tvalid's auc: 0.674046\n",
      "[700]\ttrain's auc: 0.978734\tvalid's auc: 0.675202\n",
      "[800]\ttrain's auc: 0.983406\tvalid's auc: 0.675691\n",
      "Early stopping, best iteration is:\n",
      "[745]\ttrain's auc: 0.98143\tvalid's auc: 0.676392\n",
      "Fold  1 AUC : 0.676392\n",
      "Training until validation scores don't improve for 100 rounds.\n",
      "[100]\ttrain's auc: 0.849979\tvalid's auc: 0.656718\n",
      "[200]\ttrain's auc: 0.90025\tvalid's auc: 0.677775\n",
      "[300]\ttrain's auc: 0.929586\tvalid's auc: 0.682704\n",
      "[400]\ttrain's auc: 0.948548\tvalid's auc: 0.687687\n",
      "[500]\ttrain's auc: 0.962767\tvalid's auc: 0.690777\n",
      "[600]\ttrain's auc: 0.971954\tvalid's auc: 0.689269\n",
      "Early stopping, best iteration is:\n",
      "[502]\ttrain's auc: 0.963009\tvalid's auc: 0.690931\n",
      "Fold  2 AUC : 0.690931\n",
      "Training until validation scores don't improve for 100 rounds.\n",
      "[100]\ttrain's auc: 0.84096\tvalid's auc: 0.683719\n",
      "[200]\ttrain's auc: 0.878653\tvalid's auc: 0.696042\n",
      "[300]\ttrain's auc: 0.899921\tvalid's auc: 0.702235\n",
      "[400]\ttrain's auc: 0.909496\tvalid's auc: 0.703498\n",
      "[500]\ttrain's auc: 0.927997\tvalid's auc: 0.706178\n",
      "[600]\ttrain's auc: 0.945067\tvalid's auc: 0.707679\n",
      "[700]\ttrain's auc: 0.951683\tvalid's auc: 0.70736\n",
      "[800]\ttrain's auc: 0.960881\tvalid's auc: 0.707162\n",
      "Early stopping, best iteration is:\n",
      "[742]\ttrain's auc: 0.956414\tvalid's auc: 0.708765\n",
      "Fold  3 AUC : 0.708765\n",
      "Training until validation scores don't improve for 100 rounds.\n",
      "[100]\ttrain's auc: 0.837581\tvalid's auc: 0.641127\n",
      "[200]\ttrain's auc: 0.895012\tvalid's auc: 0.661824\n",
      "[300]\ttrain's auc: 0.927282\tvalid's auc: 0.667133\n",
      "[400]\ttrain's auc: 0.947579\tvalid's auc: 0.672862\n",
      "[500]\ttrain's auc: 0.961982\tvalid's auc: 0.676643\n",
      "[600]\ttrain's auc: 0.972525\tvalid's auc: 0.678333\n",
      "[700]\ttrain's auc: 0.979538\tvalid's auc: 0.681688\n",
      "[800]\ttrain's auc: 0.984297\tvalid's auc: 0.684251\n",
      "[900]\ttrain's auc: 0.987892\tvalid's auc: 0.684093\n",
      "Early stopping, best iteration is:\n",
      "[830]\ttrain's auc: 0.985385\tvalid's auc: 0.685428\n",
      "Fold  4 AUC : 0.685428\n",
      "Training until validation scores don't improve for 100 rounds.\n",
      "[100]\ttrain's auc: 0.83986\tvalid's auc: 0.648734\n",
      "[200]\ttrain's auc: 0.893867\tvalid's auc: 0.667065\n",
      "[300]\ttrain's auc: 0.928468\tvalid's auc: 0.677414\n",
      "[400]\ttrain's auc: 0.948988\tvalid's auc: 0.684353\n",
      "[500]\ttrain's auc: 0.962077\tvalid's auc: 0.688702\n",
      "[600]\ttrain's auc: 0.97246\tvalid's auc: 0.692041\n",
      "[700]\ttrain's auc: 0.978969\tvalid's auc: 0.694826\n",
      "[800]\ttrain's auc: 0.984271\tvalid's auc: 0.695674\n",
      "[900]\ttrain's auc: 0.987749\tvalid's auc: 0.699826\n",
      "[1000]\ttrain's auc: 0.990258\tvalid's auc: 0.700744\n",
      "Early stopping, best iteration is:\n",
      "[971]\ttrain's auc: 0.989643\tvalid's auc: 0.701657\n",
      "Fold  5 AUC : 0.701657\n",
      "Full AUC score 0.692179\n",
      "(15166, 692) (3793, 692) (6000, 692)\n",
      "Training until validation scores don't improve for 100 rounds.\n",
      "[100]\ttrain's auc: 0.844193\tvalid's auc: 0.652026\n",
      "[200]\ttrain's auc: 0.902088\tvalid's auc: 0.667501\n",
      "[300]\ttrain's auc: 0.930749\tvalid's auc: 0.669441\n",
      "[400]\ttrain's auc: 0.948755\tvalid's auc: 0.673598\n",
      "[500]\ttrain's auc: 0.961794\tvalid's auc: 0.674824\n",
      "[600]\ttrain's auc: 0.970844\tvalid's auc: 0.674851\n",
      "Early stopping, best iteration is:\n",
      "[533]\ttrain's auc: 0.965346\tvalid's auc: 0.676442\n",
      "Fold  1 AUC : 0.676442\n",
      "Training until validation scores don't improve for 100 rounds.\n",
      "[100]\ttrain's auc: 0.844706\tvalid's auc: 0.657293\n",
      "[200]\ttrain's auc: 0.896673\tvalid's auc: 0.675112\n",
      "[300]\ttrain's auc: 0.926968\tvalid's auc: 0.685279\n",
      "[400]\ttrain's auc: 0.946097\tvalid's auc: 0.690045\n",
      "[500]\ttrain's auc: 0.960553\tvalid's auc: 0.695451\n",
      "[600]\ttrain's auc: 0.970655\tvalid's auc: 0.696537\n",
      "[700]\ttrain's auc: 0.978325\tvalid's auc: 0.69577\n",
      "Early stopping, best iteration is:\n",
      "[644]\ttrain's auc: 0.974293\tvalid's auc: 0.697713\n",
      "Fold  2 AUC : 0.697713\n",
      "Training until validation scores don't improve for 100 rounds.\n",
      "[100]\ttrain's auc: 0.83779\tvalid's auc: 0.682791\n",
      "[200]\ttrain's auc: 0.875348\tvalid's auc: 0.694017\n",
      "[300]\ttrain's auc: 0.897322\tvalid's auc: 0.699707\n",
      "[400]\ttrain's auc: 0.908476\tvalid's auc: 0.703611\n",
      "[500]\ttrain's auc: 0.924287\tvalid's auc: 0.703187\n",
      "Early stopping, best iteration is:\n",
      "[440]\ttrain's auc: 0.915847\tvalid's auc: 0.70519\n",
      "Fold  3 AUC : 0.705190\n",
      "Training until validation scores don't improve for 100 rounds.\n",
      "[100]\ttrain's auc: 0.839194\tvalid's auc: 0.643537\n",
      "[200]\ttrain's auc: 0.895013\tvalid's auc: 0.665573\n",
      "[300]\ttrain's auc: 0.926332\tvalid's auc: 0.673482\n",
      "[400]\ttrain's auc: 0.946045\tvalid's auc: 0.678383\n",
      "[500]\ttrain's auc: 0.960778\tvalid's auc: 0.681862\n",
      "[600]\ttrain's auc: 0.970237\tvalid's auc: 0.682022\n",
      "Early stopping, best iteration is:\n",
      "[582]\ttrain's auc: 0.968874\tvalid's auc: 0.68322\n",
      "Fold  4 AUC : 0.683220\n",
      "Training until validation scores don't improve for 100 rounds.\n",
      "[100]\ttrain's auc: 0.840115\tvalid's auc: 0.647729\n",
      "[200]\ttrain's auc: 0.893508\tvalid's auc: 0.668664\n",
      "[300]\ttrain's auc: 0.925036\tvalid's auc: 0.68335\n",
      "[400]\ttrain's auc: 0.944679\tvalid's auc: 0.686766\n",
      "[500]\ttrain's auc: 0.958854\tvalid's auc: 0.688173\n"
     ]
    },
    {
     "name": "stdout",
     "output_type": "stream",
     "text": [
      "[600]\ttrain's auc: 0.969313\tvalid's auc: 0.69347\n",
      "[700]\ttrain's auc: 0.97676\tvalid's auc: 0.696103\n",
      "[800]\ttrain's auc: 0.981923\tvalid's auc: 0.696763\n",
      "[900]\ttrain's auc: 0.986071\tvalid's auc: 0.700438\n",
      "Early stopping, best iteration is:\n",
      "[898]\ttrain's auc: 0.985991\tvalid's auc: 0.700757\n",
      "Fold  5 AUC : 0.700757\n",
      "Full AUC score 0.691944\n"
     ]
    },
    {
     "ename": "FileNotFoundError",
     "evalue": "[Errno 2] No such file or directory: '../model_output/lgb_692/3/pred_train.csv'",
     "output_type": "error",
     "traceback": [
      "\u001b[0;31m---------------------------------------------------------------------------\u001b[0m",
      "\u001b[0;31mFileNotFoundError\u001b[0m                         Traceback (most recent call last)",
      "\u001b[0;32m<ipython-input-30-33dadf233ce9>\u001b[0m in \u001b[0;36m<module>\u001b[0;34m()\u001b[0m\n\u001b[1;32m      9\u001b[0m \u001b[0;32mfor\u001b[0m \u001b[0mi\u001b[0m\u001b[0;34m,\u001b[0m \u001b[0mparams\u001b[0m \u001b[0;32min\u001b[0m \u001b[0menumerate\u001b[0m\u001b[0;34m(\u001b[0m\u001b[0mparams_list\u001b[0m\u001b[0;34m)\u001b[0m\u001b[0;34m:\u001b[0m\u001b[0;34m\u001b[0m\u001b[0m\n\u001b[1;32m     10\u001b[0m     \u001b[0mmodel_dir\u001b[0m \u001b[0;34m=\u001b[0m \u001b[0;34m\"../model_output/lgb_692/%d/\"\u001b[0m \u001b[0;34m%\u001b[0m \u001b[0mi\u001b[0m\u001b[0;34m\u001b[0m\u001b[0m\n\u001b[0;32m---> 11\u001b[0;31m     \u001b[0mresult\u001b[0m\u001b[0;34m.\u001b[0m\u001b[0mappend\u001b[0m\u001b[0;34m(\u001b[0m\u001b[0mcv\u001b[0m\u001b[0;34m(\u001b[0m\u001b[0mdf\u001b[0m\u001b[0;34m,\u001b[0m \u001b[0;36m5\u001b[0m\u001b[0;34m,\u001b[0m \u001b[0mparams\u001b[0m\u001b[0;34m,\u001b[0m \u001b[0mmodel_dir\u001b[0m\u001b[0;34m)\u001b[0m\u001b[0;34m)\u001b[0m\u001b[0;34m\u001b[0m\u001b[0m\n\u001b[0m",
      "\u001b[0;32m<ipython-input-26-8c639dab1c86>\u001b[0m in \u001b[0;36mcv\u001b[0;34m(df, num_folds, param, model_dir, stratified, debug)\u001b[0m\n\u001b[1;32m     52\u001b[0m     \u001b[0;32mif\u001b[0m \u001b[0;32mnot\u001b[0m \u001b[0mdebug\u001b[0m\u001b[0;34m:\u001b[0m\u001b[0;34m\u001b[0m\u001b[0m\n\u001b[1;32m     53\u001b[0m         \u001b[0mtrain_df\u001b[0m\u001b[0;34m[\u001b[0m\u001b[0;34m\"prob\"\u001b[0m\u001b[0;34m]\u001b[0m \u001b[0;34m=\u001b[0m \u001b[0moof_preds\u001b[0m\u001b[0;34m\u001b[0m\u001b[0m\n\u001b[0;32m---> 54\u001b[0;31m         \u001b[0mtrain_df\u001b[0m\u001b[0;34m[\u001b[0m\u001b[0;34m[\u001b[0m\u001b[0;34m'id'\u001b[0m\u001b[0;34m,\u001b[0m \u001b[0;34m'prob'\u001b[0m\u001b[0;34m]\u001b[0m\u001b[0;34m]\u001b[0m\u001b[0;34m.\u001b[0m\u001b[0mto_csv\u001b[0m\u001b[0;34m(\u001b[0m\u001b[0mmodel_dir\u001b[0m \u001b[0;34m+\u001b[0m \u001b[0;34m\"pred_train.csv\"\u001b[0m\u001b[0;34m,\u001b[0m \u001b[0mindex\u001b[0m\u001b[0;34m=\u001b[0m \u001b[0;32mFalse\u001b[0m\u001b[0;34m)\u001b[0m\u001b[0;34m\u001b[0m\u001b[0m\n\u001b[0m\u001b[1;32m     55\u001b[0m \u001b[0;34m\u001b[0m\u001b[0m\n\u001b[1;32m     56\u001b[0m         \u001b[0mall_test_preds\u001b[0m \u001b[0;34m=\u001b[0m \u001b[0mpd\u001b[0m\u001b[0;34m.\u001b[0m\u001b[0mconcat\u001b[0m\u001b[0;34m(\u001b[0m\u001b[0mall_test_preds\u001b[0m\u001b[0;34m,\u001b[0m \u001b[0maxis\u001b[0m\u001b[0;34m=\u001b[0m\u001b[0;36m0\u001b[0m\u001b[0;34m)\u001b[0m\u001b[0;34m\u001b[0m\u001b[0m\n",
      "\u001b[0;32m~/anaconda3/lib/python3.6/site-packages/pandas/core/frame.py\u001b[0m in \u001b[0;36mto_csv\u001b[0;34m(self, path_or_buf, sep, na_rep, float_format, columns, header, index, index_label, mode, encoding, compression, quoting, quotechar, line_terminator, chunksize, tupleize_cols, date_format, doublequote, escapechar, decimal)\u001b[0m\n\u001b[1;32m   1743\u001b[0m                                  \u001b[0mdoublequote\u001b[0m\u001b[0;34m=\u001b[0m\u001b[0mdoublequote\u001b[0m\u001b[0;34m,\u001b[0m\u001b[0;34m\u001b[0m\u001b[0m\n\u001b[1;32m   1744\u001b[0m                                  escapechar=escapechar, decimal=decimal)\n\u001b[0;32m-> 1745\u001b[0;31m         \u001b[0mformatter\u001b[0m\u001b[0;34m.\u001b[0m\u001b[0msave\u001b[0m\u001b[0;34m(\u001b[0m\u001b[0;34m)\u001b[0m\u001b[0;34m\u001b[0m\u001b[0m\n\u001b[0m\u001b[1;32m   1746\u001b[0m \u001b[0;34m\u001b[0m\u001b[0m\n\u001b[1;32m   1747\u001b[0m         \u001b[0;32mif\u001b[0m \u001b[0mpath_or_buf\u001b[0m \u001b[0;32mis\u001b[0m \u001b[0;32mNone\u001b[0m\u001b[0;34m:\u001b[0m\u001b[0;34m\u001b[0m\u001b[0m\n",
      "\u001b[0;32m~/anaconda3/lib/python3.6/site-packages/pandas/io/formats/csvs.py\u001b[0m in \u001b[0;36msave\u001b[0;34m(self)\u001b[0m\n\u001b[1;32m    163\u001b[0m                                  \u001b[0mescapechar\u001b[0m\u001b[0;34m=\u001b[0m\u001b[0mself\u001b[0m\u001b[0;34m.\u001b[0m\u001b[0mescapechar\u001b[0m\u001b[0;34m,\u001b[0m\u001b[0;34m\u001b[0m\u001b[0m\n\u001b[1;32m    164\u001b[0m                                  quotechar=self.quotechar)\n\u001b[0;32m--> 165\u001b[0;31m             \u001b[0;32mif\u001b[0m \u001b[0mencoding\u001b[0m \u001b[0;34m==\u001b[0m \u001b[0;34m'ascii'\u001b[0m\u001b[0;34m:\u001b[0m\u001b[0;34m\u001b[0m\u001b[0m\n\u001b[0m\u001b[1;32m    166\u001b[0m                 \u001b[0mself\u001b[0m\u001b[0;34m.\u001b[0m\u001b[0mwriter\u001b[0m \u001b[0;34m=\u001b[0m \u001b[0mcsvlib\u001b[0m\u001b[0;34m.\u001b[0m\u001b[0mwriter\u001b[0m\u001b[0;34m(\u001b[0m\u001b[0mf\u001b[0m\u001b[0;34m,\u001b[0m \u001b[0;34m**\u001b[0m\u001b[0mwriter_kwargs\u001b[0m\u001b[0;34m)\u001b[0m\u001b[0;34m\u001b[0m\u001b[0m\n\u001b[1;32m    167\u001b[0m             \u001b[0;32melse\u001b[0m\u001b[0;34m:\u001b[0m\u001b[0;34m\u001b[0m\u001b[0m\n",
      "\u001b[0;32m~/anaconda3/lib/python3.6/site-packages/pandas/io/common.py\u001b[0m in \u001b[0;36m_get_handle\u001b[0;34m(path_or_buf, mode, encoding, compression, memory_map, is_text)\u001b[0m\n\u001b[1;32m    398\u001b[0m         \u001b[0;32melif\u001b[0m \u001b[0mencoding\u001b[0m\u001b[0;34m:\u001b[0m\u001b[0;34m\u001b[0m\u001b[0m\n\u001b[1;32m    399\u001b[0m             \u001b[0;31m# Python 3 and encoding\u001b[0m\u001b[0;34m\u001b[0m\u001b[0;34m\u001b[0m\u001b[0m\n\u001b[0;32m--> 400\u001b[0;31m             \u001b[0mf\u001b[0m \u001b[0;34m=\u001b[0m \u001b[0mopen\u001b[0m\u001b[0;34m(\u001b[0m\u001b[0mpath_or_buf\u001b[0m\u001b[0;34m,\u001b[0m \u001b[0mmode\u001b[0m\u001b[0;34m,\u001b[0m \u001b[0mencoding\u001b[0m\u001b[0;34m=\u001b[0m\u001b[0mencoding\u001b[0m\u001b[0;34m)\u001b[0m\u001b[0;34m\u001b[0m\u001b[0m\n\u001b[0m\u001b[1;32m    401\u001b[0m         \u001b[0;32melif\u001b[0m \u001b[0mis_text\u001b[0m\u001b[0;34m:\u001b[0m\u001b[0;34m\u001b[0m\u001b[0m\n\u001b[1;32m    402\u001b[0m             \u001b[0;31m# Python 3 and no explicit encoding\u001b[0m\u001b[0;34m\u001b[0m\u001b[0;34m\u001b[0m\u001b[0m\n",
      "\u001b[0;31mFileNotFoundError\u001b[0m: [Errno 2] No such file or directory: '../model_output/lgb_692/3/pred_train.csv'"
     ]
    }
   ],
   "source": [
    "# params_list =[\n",
    "#     {'boosting_type': 'goss', 'colsample_bytree': 0.6361074091768211, 'learning_rate': 0.017552101517925738, 'max_bin': 890, 'metric': 'auc', 'min_child_weight': 13.822743561422419, 'num_leaves': 142, 'reg_alpha': 44.02315295186438, 'reg_lambda': 786.7401929349503, 'subsample': 1.0, 'verbose': 1},\n",
    "#     {'boosting_type': 'goss', 'colsample_bytree': 0.6242911020379066, 'learning_rate': 0.01653945448682752, 'max_bin': 680, 'metric': 'auc', 'min_child_weight': 12.650780009611925, 'num_leaves': 67, 'reg_alpha': 47.09175114406449, 'reg_lambda': 877.4856871282157, 'subsample': 1.0, 'verbose': 1},\n",
    "#     {'boosting_type': 'goss', 'colsample_bytree': 0.6982064137489119, 'learning_rate': 0.016013714776900945, 'max_bin': 760, 'metric': 'auc', 'min_child_weight': 11.010544811253551, 'num_leaves': 133, 'reg_alpha': 37.6720426237371, 'reg_lambda': 952.6670482851789, 'subsample': 1.0, 'verbose': 1},\n",
    "#     {'boosting_type': 'goss', 'colsample_bytree': 0.6053715371118441, 'learning_rate': 0.017157540317584066, 'max_bin': 840, 'metric': 'auc', 'min_child_weight': 8.338273524627725, 'num_leaves': 93, 'reg_alpha': 40.785833195844056, 'reg_lambda': 937.8635669398237, 'subsample': 1.0, 'verbose': 1},\n",
    "#     {'boosting_type': 'goss', 'colsample_bytree': 0.666290363015605, 'learning_rate': 0.016595579965019504, 'max_bin': 830, 'metric': 'auc', 'min_child_weight': 10.620363000104456, 'num_leaves': 84, 'reg_alpha': 48.94431268173896, 'reg_lambda': 907.0034326430371, 'subsample': 1.0, 'verbose': 1}\n",
    "# ]\n",
    "# result = []\n",
    "# for i, params in enumerate(params_list):\n",
    "#     model_dir = \"../model_output/lgb_692/%d/\" % i\n",
    "#     result.append(cv(df, 5, params, model_dir))"
   ]
  }
 ],
 "metadata": {
  "kernelspec": {
   "display_name": "Python 3",
   "language": "python",
   "name": "python3"
  },
  "language_info": {
   "codemirror_mode": {
    "name": "ipython",
    "version": 3
   },
   "file_extension": ".py",
   "mimetype": "text/x-python",
   "name": "python",
   "nbconvert_exporter": "python",
   "pygments_lexer": "ipython3",
   "version": "3.6.4"
  }
 },
 "nbformat": 4,
 "nbformat_minor": 2
}
