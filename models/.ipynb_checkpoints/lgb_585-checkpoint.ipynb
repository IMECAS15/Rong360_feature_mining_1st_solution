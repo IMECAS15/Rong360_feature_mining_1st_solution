{
 "cells": [
  {
   "cell_type": "code",
   "execution_count": 32,
   "metadata": {},
   "outputs": [],
   "source": [
    "import pandas as pd\n",
    "import numpy as np\n",
    "import gc\n",
    "import time\n",
    "from contextlib import contextmanager\n",
    "import lightgbm as lgb\n",
    "import xgboost as xgb\n",
    "from sklearn.metrics import roc_auc_score, roc_curve, f1_score\n",
    "from sklearn.model_selection import KFold, StratifiedKFold\n",
    "import matplotlib.pyplot as plt\n",
    "import seaborn as sns\n",
    "import warnings\n",
    "import category_encoders as ce\n",
    "import pickle\n",
    "from sklearn.svm import SVC\n",
    "warnings.simplefilter(action='ignore', category=FutureWarning)"
   ]
  },
  {
   "cell_type": "code",
   "execution_count": 33,
   "metadata": {},
   "outputs": [],
   "source": [
    "train = pd.read_csv(\"../data/sample_train.txt\", delimiter=\"\\t\")\n",
    "test = pd.read_csv(\"../data/test_id.txt\", delimiter=\"\\t\")"
   ]
  },
  {
   "cell_type": "code",
   "execution_count": 34,
   "metadata": {},
   "outputs": [],
   "source": [
    "df = pd.concat([train, test], axis=0)"
   ]
  },
  {
   "cell_type": "code",
   "execution_count": 35,
   "metadata": {},
   "outputs": [],
   "source": [
    "risk = pd.read_csv(\"../features/risk/risk.csv\")\n",
    "df = df.merge(risk, on=\"id\", how=\"left\")"
   ]
  },
  {
   "cell_type": "code",
   "execution_count": 36,
   "metadata": {},
   "outputs": [],
   "source": [
    "symbol = pd.read_csv(\"../features/symbol/symbol.csv\")\n",
    "df = df.merge(symbol, on=\"id\", how=\"left\")"
   ]
  },
  {
   "cell_type": "code",
   "execution_count": 37,
   "metadata": {},
   "outputs": [],
   "source": [
    "# dp_emb = pd.read_csv(\"../features/graph/graph_filtered_64.emb\")\n",
    "# df = df.merge(dp_emb, on=\"id\", how=\"left\")"
   ]
  },
  {
   "cell_type": "code",
   "execution_count": 38,
   "metadata": {},
   "outputs": [],
   "source": [
    "dp_emb = pd.read_csv(\"../features/graph/deepwalk_128_filtered.emb\")\n",
    "df = df.merge(dp_emb, on=\"id\", how=\"left\")"
   ]
  },
  {
   "cell_type": "code",
   "execution_count": 39,
   "metadata": {},
   "outputs": [
    {
     "data": {
      "text/plain": [
       "(28442, 129)"
      ]
     },
     "execution_count": 39,
     "metadata": {},
     "output_type": "execute_result"
    }
   ],
   "source": [
    "dp_emb.shape"
   ]
  },
  {
   "cell_type": "code",
   "execution_count": 40,
   "metadata": {},
   "outputs": [],
   "source": [
    "# nv_emb = pd.read_csv(\"../data/edge/node2vec_64.emb\")\n",
    "# df = df.merge(nv_emb, on=\"id\", how=\"left\")"
   ]
  },
  {
   "cell_type": "code",
   "execution_count": 41,
   "metadata": {},
   "outputs": [],
   "source": [
    "graph_info = pd.read_csv(\"../features/graph/graph_info.csv\")\n",
    "df = df.merge(graph_info, on=\"id\", how=\"left\")"
   ]
  },
  {
   "cell_type": "code",
   "execution_count": 42,
   "metadata": {},
   "outputs": [],
   "source": [
    "# app_pca = pd.read_csv(\"../data/app/app_pca_16.csv\")\n",
    "# df = df.merge(app_pca, on=\"id\", how=\"left\")\n",
    "\n",
    "app_lda = pd.read_csv(\"../features/app/app_lda_16.csv\")\n",
    "df = df.merge(app_lda, on=\"id\", how=\"left\")\n",
    "\n",
    "# app_lda = pd.read_csv(\"../data1/app/app_lda_16.csv\")\n",
    "# df = df.merge(app_lda, on=\"id\", how=\"left\")\n",
    "\n",
    "# app_nmf = pd.read_csv(\"../data/app/app_nmf_16.csv\")\n",
    "# df = df.merge(app_nmf, on=\"id\", how=\"left\")"
   ]
  },
  {
   "cell_type": "code",
   "execution_count": 43,
   "metadata": {},
   "outputs": [],
   "source": [
    "# app_info = pd.read_csv(\"../features/app/app_info.csv\")\n",
    "# df = df.merge(app_info, on=\"id\", how=\"left\")"
   ]
  },
  {
   "cell_type": "markdown",
   "metadata": {},
   "source": [
    "app_graph"
   ]
  },
  {
   "cell_type": "code",
   "execution_count": 44,
   "metadata": {},
   "outputs": [],
   "source": [
    "# to_pca = pd.read_csv(\"../features/app_graph/to_app_pca_mean.csv\")\n",
    "# from_pca = pd.read_csv(\"../features/app_graph/from_app_pca_mean.csv\")\n",
    "\n",
    "# df = df.merge(to_pca, on=\"id\", how=\"left\")\n",
    "# df = df.merge(from_pca, on=\"id\", how=\"left\")\n",
    "\n",
    "to_pca = pd.read_csv(\"../features/app_graph/to_app_pca_num_mean.csv\")\n",
    "from_pca = pd.read_csv(\"../features/app_graph/from_app_pca_num_mean.csv\")\n",
    "\n",
    "df = df.merge(to_pca, on=\"id\", how=\"left\")\n",
    "df = df.merge(from_pca, on=\"id\", how=\"left\")\n",
    "\n",
    "to_pca = pd.read_csv(\"../features/app_graph/to_app_pca_weight_mean.csv\")\n",
    "from_pca = pd.read_csv(\"../features/app_graph/from_app_pca_weight_mean.csv\")\n",
    "\n",
    "df = df.merge(to_pca, on=\"id\", how=\"left\")\n",
    "df = df.merge(from_pca, on=\"id\", how=\"left\")"
   ]
  },
  {
   "cell_type": "code",
   "execution_count": 45,
   "metadata": {},
   "outputs": [],
   "source": [
    "# to_pca_nmf = pd.read_csv(\"../features/app_graph/to_app_nmf_mean.csv\")\n",
    "# from_pca_nmf = pd.read_csv(\"../features/app_graph/from_app_nmf_mean.csv\")\n",
    "\n",
    "# df = df.merge(to_pca_nmf, on=\"id\", how=\"left\")\n",
    "# df = df.merge(from_pca_nmf, on=\"id\", how=\"left\")\n",
    "\n",
    "# to_pca_nmf = pd.read_csv(\"../features/app_graph/to_app_nmf_num_mean.csv\")\n",
    "# from_pca_nmf = pd.read_csv(\"../features/app_graph/from_app_nmf_num_mean.csv\")\n",
    "\n",
    "# df = df.merge(to_pca_nmf, on=\"id\", how=\"left\")\n",
    "# df = df.merge(from_pca_nmf, on=\"id\", how=\"left\")\n",
    "\n",
    "# to_pca_nmf = pd.read_csv(\"../features/app_graph/to_app_nmf_weight_mean.csv\")\n",
    "# from_pca_nmf = pd.read_csv(\"../features/app_graph/from_app_nmf_weight_mean.csv\")\n",
    "\n",
    "# df = df.merge(to_pca_nmf, on=\"id\", how=\"left\")\n",
    "# df = df.merge(from_pca_nmf, on=\"id\", how=\"left\")"
   ]
  },
  {
   "cell_type": "code",
   "execution_count": 46,
   "metadata": {},
   "outputs": [],
   "source": [
    "# to_lda = pd.read_csv(\"../features/app_graph/to_app_lda_mean.csv\")\n",
    "# from_lda = pd.read_csv(\"../features/app_graph/from_app_lda_mean.csv\")\n",
    "\n",
    "# df = df.merge(to_lda, on=\"id\", how=\"left\")\n",
    "# df = df.merge(from_lda, on=\"id\", how=\"left\")\n",
    "\n",
    "# to_lda = pd.read_csv(\"../features/app_graph/to_app_lda_num_mean.csv\")\n",
    "# from_lda = pd.read_csv(\"../features/app_graph/from_app_lda_num_mean.csv\")\n",
    "\n",
    "# df = df.merge(to_lda, on=\"id\", how=\"left\")\n",
    "# df = df.merge(from_lda, on=\"id\", how=\"left\")\n",
    "\n",
    "# to_lda = pd.read_csv(\"../features/app_graph/to_app_lda_weight_mean.csv\")\n",
    "# from_lda = pd.read_csv(\"../features/app_graph/from_app_lda_weight_mean.csv\")\n",
    "\n",
    "# df = df.merge(to_lda, on=\"id\", how=\"left\")\n",
    "# df = df.merge(from_lda, on=\"id\", how=\"left\")"
   ]
  },
  {
   "cell_type": "markdown",
   "metadata": {},
   "source": [
    "risk_graph"
   ]
  },
  {
   "cell_type": "code",
   "execution_count": 47,
   "metadata": {},
   "outputs": [],
   "source": [
    "# to_risk = pd.read_csv(\"../features/risk_graph/to_risk_mean.csv\")\n",
    "# from_risk = pd.read_csv(\"../features/risk_graph/from_risk_mean.csv\")\n",
    "\n",
    "# df = df.merge(to_risk, on=\"id\", how=\"left\")\n",
    "# df = df.merge(from_risk, on=\"id\", how=\"left\")\n",
    "\n",
    "to_risk = pd.read_csv(\"../features/risk_graph/to_risk_num_mean.csv\")\n",
    "from_risk = pd.read_csv(\"../features/risk_graph/from_risk_num_mean.csv\")\n",
    "\n",
    "df = df.merge(to_risk, on=\"id\", how=\"left\")\n",
    "df = df.merge(from_risk, on=\"id\", how=\"left\")\n",
    "\n",
    "to_risk = pd.read_csv(\"../features/risk_graph/to_risk_weight_mean.csv\")\n",
    "from_risk = pd.read_csv(\"../features/risk_graph/from_risk_weight_mean.csv\")\n",
    "\n",
    "df = df.merge(to_risk, on=\"id\", how=\"left\")\n",
    "df = df.merge(from_risk, on=\"id\", how=\"left\")\n",
    "\n",
    "# to_risk = pd.read_csv(\"../features/risk_graph/to_risk_sum.csv\")\n",
    "# from_risk = pd.read_csv(\"../features/risk_graph/from_risk_sum.csv\")\n",
    "\n",
    "# df = df.merge(to_risk, on=\"id\", how=\"left\")\n",
    "# df = df.merge(from_risk, on=\"id\", how=\"left\")\n",
    "\n",
    "to_risk = pd.read_csv(\"../features/risk_graph/to_risk_num_sum.csv\")\n",
    "from_risk = pd.read_csv(\"../features/risk_graph/from_risk_num_sum.csv\")\n",
    "\n",
    "df = df.merge(to_risk, on=\"id\", how=\"left\")\n",
    "df = df.merge(from_risk, on=\"id\", how=\"left\")\n",
    "\n",
    "to_risk = pd.read_csv(\"../features/risk_graph/to_risk_weight_sum.csv\")\n",
    "from_risk = pd.read_csv(\"../features/risk_graph/from_risk_weight_sum.csv\")\n",
    "\n",
    "df = df.merge(to_risk, on=\"id\", how=\"left\")\n",
    "df = df.merge(from_risk, on=\"id\", how=\"left\")"
   ]
  },
  {
   "cell_type": "markdown",
   "metadata": {},
   "source": [
    "symbol_graph"
   ]
  },
  {
   "cell_type": "code",
   "execution_count": 48,
   "metadata": {},
   "outputs": [],
   "source": [
    "# to_cat_num = pd.read_csv(\"../features/symbol_graph/to_symbol_sum.csv\")\n",
    "# from_cat_num = pd.read_csv(\"../features/symbol_graph/from_symbol_sum.csv\")\n",
    "\n",
    "# df = df.merge(to_cat_num, on=\"id\", how=\"left\")\n",
    "# df = df.merge(from_cat_num, on=\"id\", how=\"left\")\n",
    "\n",
    "# to_cat_num = pd.read_csv(\"../features/symbol_graph/to_symbol_num_sum.csv\")\n",
    "# from_cat_num = pd.read_csv(\"../features/symbol_graph/from_symbol_num_sum.csv\")\n",
    "\n",
    "# df = df.merge(to_cat_num, on=\"id\", how=\"left\")\n",
    "# df = df.merge(from_cat_num, on=\"id\", how=\"left\")\n",
    "\n",
    "# to_cat_weight = pd.read_csv(\"../features/symbol_graph/to_symbol_weight_sum.csv\")\n",
    "# from_cat_weight = pd.read_csv(\"../features/symbol_graph/from_symbol_weight_sum.csv\")\n",
    "\n",
    "# df = df.merge(to_cat_weight, on=\"id\", how=\"left\")\n",
    "# df = df.merge(from_cat_weight, on=\"id\", how=\"left\")\n",
    "\n",
    "# to_cat_num = pd.read_csv(\"../features/symbol_graph/to_symbol_mean.csv\")\n",
    "# from_cat_num = pd.read_csv(\"../features/symbol_graph/from_symbol_mean.csv\")\n",
    "\n",
    "# df = df.merge(to_cat_num, on=\"id\", how=\"left\")\n",
    "# df = df.merge(from_cat_num, on=\"id\", how=\"left\")\n",
    "\n",
    "to_cat_num = pd.read_csv(\"../features/symbol_graph/to_symbol_num_mean.csv\")\n",
    "from_cat_num = pd.read_csv(\"../features/symbol_graph/from_symbol_num_mean.csv\")\n",
    "\n",
    "df = df.merge(to_cat_num, on=\"id\", how=\"left\")\n",
    "df = df.merge(from_cat_num, on=\"id\", how=\"left\")\n",
    "\n",
    "to_cat_weight = pd.read_csv(\"../features/symbol_graph/to_symbol_weight_mean.csv\")\n",
    "from_cat_weight = pd.read_csv(\"../features/symbol_graph/from_symbol_weight_mean.csv\")\n",
    "\n",
    "df = df.merge(to_cat_weight, on=\"id\", how=\"left\")\n",
    "df = df.merge(from_cat_weight, on=\"id\", how=\"left\")"
   ]
  },
  {
   "cell_type": "markdown",
   "metadata": {},
   "source": [
    "knn"
   ]
  },
  {
   "cell_type": "code",
   "execution_count": 49,
   "metadata": {},
   "outputs": [],
   "source": [
    "# dp_knn = pd.read_csv(\"../features/knn/dp_knn_3.csv\")\n",
    "# df = df.merge(dp_knn, on=\"id\", how=\"left\")\n",
    "\n",
    "# dp_knn = pd.read_csv(\"../features/knn/dp_knn_10.csv\")\n",
    "# df = df.merge(dp_knn, on=\"id\", how=\"left\")\n",
    "\n",
    "# dp_knn = pd.read_csv(\"../features/knn/dp_knn_30.csv\")\n",
    "# df = df.merge(dp_knn, on=\"id\", how=\"left\")\n",
    "\n",
    "# dp_knn = pd.read_csv(\"../features/knn/dp_knn_100.csv\")\n",
    "# df = df.merge(dp_knn, on=\"id\", how=\"left\")\n",
    "\n",
    "# dp_knn = pd.read_csv(\"../features/knn/dp_knn_300.csv\")\n",
    "# df = df.merge(dp_knn, on=\"id\", how=\"left\")"
   ]
  },
  {
   "cell_type": "markdown",
   "metadata": {},
   "source": [
    "中心性"
   ]
  },
  {
   "cell_type": "code",
   "execution_count": 50,
   "metadata": {},
   "outputs": [],
   "source": [
    "pr = pd.read_csv(\"../features/graph/pagerank.csv\")\n",
    "df = df.merge(pr, on=\"id\", how=\"left\")"
   ]
  },
  {
   "cell_type": "code",
   "execution_count": 51,
   "metadata": {},
   "outputs": [],
   "source": [
    "for d in [\"to\", \"from\"]:\n",
    "    for w in ['', '_num', '_weight']:\n",
    "        for f in ['sum', 'mean']:\n",
    "            a = pd.read_csv(\"../features/graph/%s_pagerank%s_%s.csv\" % (d, w, f))\n",
    "            df = df.merge(a, on=\"id\", how=\"left\")"
   ]
  },
  {
   "cell_type": "code",
   "execution_count": 52,
   "metadata": {},
   "outputs": [],
   "source": [
    "hits = pd.read_csv(\"../features/graph/hits.csv\")\n",
    "df = df.merge(hits, on=\"id\", how=\"left\")\n",
    "\n",
    "for d in [\"to\", \"from\"]:\n",
    "    for w in ['', '_num', '_weight']:\n",
    "        for f in ['sum', 'mean']:\n",
    "            a = pd.read_csv(\"../features/graph/%s_hits%s_%s.csv\" % (d, w, f))\n",
    "            df = df.merge(a, on=\"id\", how=\"left\")"
   ]
  },
  {
   "cell_type": "code",
   "execution_count": 53,
   "metadata": {},
   "outputs": [],
   "source": [
    "hits = pd.read_csv(\"../features/graph/dc.csv\")\n",
    "df = df.merge(hits, on=\"id\", how=\"left\")\n",
    "for d in [\"to\", \"from\"]:\n",
    "    for w in ['', '_num', '_weight']:\n",
    "        for f in ['sum', 'mean']:\n",
    "            a = pd.read_csv(\"../features/graph/%s_dc%s_%s.csv\" % (d, w, f))\n",
    "            df = df.merge(a, on=\"id\", how=\"left\")"
   ]
  },
  {
   "cell_type": "markdown",
   "metadata": {},
   "source": [
    "二度联系人"
   ]
  },
  {
   "cell_type": "code",
   "execution_count": 54,
   "metadata": {},
   "outputs": [],
   "source": [
    "# 联系人个数\n",
    "for d1 in [\"from\", \"to\"]:\n",
    "    for d2 in [\"from\", \"to\"]:\n",
    "        for t in [\"\", \"_num\", \"_weight\"]:\n",
    "            for f in [\"sum\", \"mean\"]:\n",
    "                a = pd.read_csv(\"../features/graph/%s_d2_%s%s_%s.csv\" % (d1, d2, t, f))\n",
    "                df = df.merge(a, on=\"id\", how=\"left\")"
   ]
  },
  {
   "cell_type": "code",
   "execution_count": 55,
   "metadata": {},
   "outputs": [],
   "source": [
    "# 二度联系人PageRank值\n",
    "for d1 in [\"from\", \"to\"]:\n",
    "    for d2 in [\"from\", \"to\"]:\n",
    "        for t in [\"num\", \"weight\"]:\n",
    "            for f in [\"sum\", \"mean\"]:\n",
    "                a = pd.read_csv(\"../features/graph/%s_pg_%s_%s_%s_%s_%s.csv\" % (d1, d2, t, f, t, f))\n",
    "                df = df.merge(a, on=\"id\", how=\"left\")"
   ]
  },
  {
   "cell_type": "code",
   "execution_count": 56,
   "metadata": {},
   "outputs": [],
   "source": [
    "def display_importances(feature_importance_df_):\n",
    "    cols = feature_importance_df_[[\"feature\", \"importance\"]].groupby(\"feature\").mean().sort_values(by=\"importance\", ascending=False)[:40].index\n",
    "    best_features = feature_importance_df_.loc[feature_importance_df_.feature.isin(cols)]\n",
    "    plt.figure(figsize=(8, 10))\n",
    "    sns.barplot(x=\"importance\", y=\"feature\", data=best_features.sort_values(by=\"importance\", ascending=False))\n",
    "    plt.title('LightGBM Features (avg over folds)')\n",
    "    plt.tight_layout()\n",
    "    plt.savefig('lgbm_importances01.png')"
   ]
  },
  {
   "cell_type": "code",
   "execution_count": 57,
   "metadata": {},
   "outputs": [],
   "source": [
    "def  process_feature(train_x, valid_x, test_df):\n",
    "    result = []\n",
    "    drop_cols = ['id','label']\n",
    "    for df in [train_x, valid_x, test_df]:\n",
    "        result.append(df.drop(drop_cols, axis=1))\n",
    "    return result "
   ]
  },
  {
   "cell_type": "code",
   "execution_count": 58,
   "metadata": {},
   "outputs": [],
   "source": [
    "import os\n",
    "def cv(df, num_folds, param, model_dir, stratified=True, debug=False):\n",
    "    if not os.path.exists(model_dir):\n",
    "        os.mkdir(model_dir)\n",
    "    train_df = df[df.label.notnull()]\n",
    "    test_df = df[df.label.isnull()]\n",
    "    seed = 178\n",
    "    if \"seed\" in param: \n",
    "        seed = param[\"seed\"]\n",
    "        del param['seed']\n",
    "    if stratified:\n",
    "        folds = StratifiedKFold(n_splits= num_folds, shuffle=True, random_state=seed)\n",
    "    else:\n",
    "        folds = KFold(n_splits= num_folds, shuffle=True, random_state=seed)\n",
    "    oof_preds = np.zeros(train_df.shape[0])\n",
    "    all_test_preds = []    \n",
    "    feature_importance_df = pd.DataFrame()\n",
    "    for n_fold, (train_idx, valid_idx) in enumerate(folds.split(train_df, train_df['label'])):\n",
    "        train_x, train_y = train_df.iloc[train_idx], train_df['label'].iloc[train_idx]\n",
    "        valid_x, valid_y = train_df.iloc[valid_idx], train_df['label'].iloc[valid_idx]\n",
    "        fold_preds = test_df[[\"id\"]]\n",
    "        \n",
    "        train_x, valid_x, test = process_feature(train_x, valid_x, test_df)\n",
    "        if n_fold == 0:\n",
    "            print(train_x.shape, valid_x.shape, test.shape)\n",
    "        \n",
    "        train_data = lgb.Dataset(train_x, label=train_y)\n",
    "        validation_data = lgb.Dataset(valid_x, label=valid_y)\n",
    "\n",
    "        clf=lgb.train(params,\n",
    "                      train_data,\n",
    "                      num_boost_round=10000,\n",
    "                      valid_sets=[train_data, validation_data],\n",
    "                      valid_names=[\"train\", \"valid\"],\n",
    "                      early_stopping_rounds=100,\n",
    "                      verbose_eval=100)\n",
    "\n",
    "        valid_preds = clf.predict(valid_x, num_iteration=clf.best_iteration)\n",
    "        test_preds = clf.predict(test, num_iteration=clf.best_iteration)\n",
    "\n",
    "        fold_preds['prob'] = test_preds\n",
    "        fold_preds['fold_id'] = n_fold + 1\n",
    "        all_test_preds.append(fold_preds)\n",
    "        \n",
    "        oof_preds[valid_idx] = valid_preds\n",
    "        \n",
    "        print('Fold %2d AUC : %.6f' % (n_fold + 1, roc_auc_score(valid_y, valid_preds)))\n",
    "        \n",
    "        del clf, train_x, train_y, valid_x, valid_y\n",
    "        gc.collect()\n",
    "    full_auc = roc_auc_score(train_df['label'], oof_preds)\n",
    "    print('Full AUC score %.6f' % full_auc)    \n",
    "    \n",
    "    if not debug:\n",
    "        train_df[\"prob\"] = oof_preds\n",
    "        train_df[['id', 'prob']].to_csv(model_dir + \"pred_train.csv\", index= False)\n",
    "\n",
    "        all_test_preds = pd.concat(all_test_preds, axis=0)\n",
    "        all_test_preds.to_csv(model_dir + \"all_test_preds.csv\", index=False)\n",
    "        \n",
    "        sub = pd.DataFrame()\n",
    "        sub['id'] = all_test_preds.id.unique()\n",
    "        sub.set_index(\"id\", inplace=True)\n",
    "        sub[\"prob\"] = all_test_preds.groupby(\"id\").prob.mean()\n",
    "        sub.reset_index().to_csv(model_dir + \"sub.txt\", index=False)\n",
    "    return full_auc"
   ]
  },
  {
   "cell_type": "code",
   "execution_count": 64,
   "metadata": {
    "scrolled": true
   },
   "outputs": [
    {
     "name": "stdout",
     "output_type": "stream",
     "text": [
      "(15166, 585) (3793, 585) (6000, 585)\n",
      "Training until validation scores don't improve for 100 rounds.\n",
      "[100]\ttrain's auc: 0.840846\tvalid's auc: 0.665103\n",
      "[200]\ttrain's auc: 0.886248\tvalid's auc: 0.682368\n",
      "[300]\ttrain's auc: 0.914578\tvalid's auc: 0.686385\n",
      "[400]\ttrain's auc: 0.936312\tvalid's auc: 0.690746\n",
      "[500]\ttrain's auc: 0.952437\tvalid's auc: 0.693747\n",
      "[600]\ttrain's auc: 0.963755\tvalid's auc: 0.693273\n",
      "Early stopping, best iteration is:\n",
      "[517]\ttrain's auc: 0.954477\tvalid's auc: 0.694184\n"
     ]
    },
    {
     "name": "stderr",
     "output_type": "stream",
     "text": [
      "/home/LAB/yanhao/anaconda3/lib/python3.6/site-packages/ipykernel_launcher.py:39: SettingWithCopyWarning: \n",
      "A value is trying to be set on a copy of a slice from a DataFrame.\n",
      "Try using .loc[row_indexer,col_indexer] = value instead\n",
      "\n",
      "See the caveats in the documentation: http://pandas.pydata.org/pandas-docs/stable/indexing.html#indexing-view-versus-copy\n",
      "/home/LAB/yanhao/anaconda3/lib/python3.6/site-packages/ipykernel_launcher.py:40: SettingWithCopyWarning: \n",
      "A value is trying to be set on a copy of a slice from a DataFrame.\n",
      "Try using .loc[row_indexer,col_indexer] = value instead\n",
      "\n",
      "See the caveats in the documentation: http://pandas.pydata.org/pandas-docs/stable/indexing.html#indexing-view-versus-copy\n"
     ]
    },
    {
     "name": "stdout",
     "output_type": "stream",
     "text": [
      "Fold  1 AUC : 0.694184\n",
      "Training until validation scores don't improve for 100 rounds.\n",
      "[100]\ttrain's auc: 0.839988\tvalid's auc: 0.662485\n",
      "[200]\ttrain's auc: 0.882738\tvalid's auc: 0.676853\n",
      "[300]\ttrain's auc: 0.912667\tvalid's auc: 0.684813\n",
      "[400]\ttrain's auc: 0.935533\tvalid's auc: 0.687887\n",
      "[500]\ttrain's auc: 0.951228\tvalid's auc: 0.693569\n",
      "[600]\ttrain's auc: 0.963562\tvalid's auc: 0.691577\n",
      "Early stopping, best iteration is:\n",
      "[565]\ttrain's auc: 0.95939\tvalid's auc: 0.693783\n",
      "Fold  2 AUC : 0.693783\n",
      "Training until validation scores don't improve for 100 rounds.\n",
      "[100]\ttrain's auc: 0.842529\tvalid's auc: 0.685922\n",
      "[200]\ttrain's auc: 0.869256\tvalid's auc: 0.701892\n",
      "[300]\ttrain's auc: 0.888639\tvalid's auc: 0.70628\n",
      "[400]\ttrain's auc: 0.895631\tvalid's auc: 0.708702\n",
      "[500]\ttrain's auc: 0.914765\tvalid's auc: 0.711725\n",
      "[600]\ttrain's auc: 0.933269\tvalid's auc: 0.713695\n",
      "[700]\ttrain's auc: 0.940264\tvalid's auc: 0.714737\n",
      "[800]\ttrain's auc: 0.951556\tvalid's auc: 0.715198\n",
      "[900]\ttrain's auc: 0.961631\tvalid's auc: 0.717401\n",
      "[1000]\ttrain's auc: 0.965619\tvalid's auc: 0.717891\n",
      "[1100]\ttrain's auc: 0.969692\tvalid's auc: 0.718976\n",
      "[1200]\ttrain's auc: 0.973809\tvalid's auc: 0.719372\n",
      "Early stopping, best iteration is:\n",
      "[1120]\ttrain's auc: 0.970514\tvalid's auc: 0.719608\n",
      "Fold  3 AUC : 0.719608\n",
      "Training until validation scores don't improve for 100 rounds.\n",
      "[100]\ttrain's auc: 0.835895\tvalid's auc: 0.646686\n",
      "[200]\ttrain's auc: 0.885652\tvalid's auc: 0.669979\n",
      "[300]\ttrain's auc: 0.915449\tvalid's auc: 0.679622\n",
      "[400]\ttrain's auc: 0.938014\tvalid's auc: 0.682279\n",
      "[500]\ttrain's auc: 0.953782\tvalid's auc: 0.68581\n",
      "[600]\ttrain's auc: 0.965242\tvalid's auc: 0.686225\n",
      "[700]\ttrain's auc: 0.97318\tvalid's auc: 0.687914\n",
      "Early stopping, best iteration is:\n",
      "[691]\ttrain's auc: 0.97264\tvalid's auc: 0.687968\n",
      "Fold  4 AUC : 0.687968\n",
      "Training until validation scores don't improve for 100 rounds.\n",
      "[100]\ttrain's auc: 0.838185\tvalid's auc: 0.663911\n",
      "[200]\ttrain's auc: 0.881789\tvalid's auc: 0.680983\n",
      "[300]\ttrain's auc: 0.913314\tvalid's auc: 0.691152\n",
      "[400]\ttrain's auc: 0.934783\tvalid's auc: 0.696404\n",
      "[500]\ttrain's auc: 0.951281\tvalid's auc: 0.697891\n",
      "[600]\ttrain's auc: 0.96431\tvalid's auc: 0.698595\n",
      "[700]\ttrain's auc: 0.973247\tvalid's auc: 0.700153\n",
      "[800]\ttrain's auc: 0.97955\tvalid's auc: 0.701585\n",
      "[900]\ttrain's auc: 0.984684\tvalid's auc: 0.703495\n",
      "[1000]\ttrain's auc: 0.988435\tvalid's auc: 0.704221\n",
      "[1100]\ttrain's auc: 0.991205\tvalid's auc: 0.703034\n",
      "Early stopping, best iteration is:\n",
      "[1019]\ttrain's auc: 0.988879\tvalid's auc: 0.704807\n",
      "Fold  5 AUC : 0.704807\n",
      "Full AUC score 0.699957\n"
     ]
    },
    {
     "name": "stderr",
     "output_type": "stream",
     "text": [
      "/home/LAB/yanhao/anaconda3/lib/python3.6/site-packages/ipykernel_launcher.py:53: SettingWithCopyWarning: \n",
      "A value is trying to be set on a copy of a slice from a DataFrame.\n",
      "Try using .loc[row_indexer,col_indexer] = value instead\n",
      "\n",
      "See the caveats in the documentation: http://pandas.pydata.org/pandas-docs/stable/indexing.html#indexing-view-versus-copy\n"
     ]
    },
    {
     "name": "stdout",
     "output_type": "stream",
     "text": [
      "(15166, 585) (3793, 585) (6000, 585)\n",
      "Training until validation scores don't improve for 100 rounds.\n",
      "[100]\ttrain's auc: 0.840484\tvalid's auc: 0.664847\n",
      "[200]\ttrain's auc: 0.88322\tvalid's auc: 0.680963\n",
      "[300]\ttrain's auc: 0.912706\tvalid's auc: 0.690192\n",
      "[400]\ttrain's auc: 0.935718\tvalid's auc: 0.693437\n",
      "[500]\ttrain's auc: 0.950995\tvalid's auc: 0.695624\n",
      "[600]\ttrain's auc: 0.963482\tvalid's auc: 0.698315\n",
      "[700]\ttrain's auc: 0.972479\tvalid's auc: 0.701753\n",
      "[800]\ttrain's auc: 0.979086\tvalid's auc: 0.702392\n",
      "Early stopping, best iteration is:\n",
      "[790]\ttrain's auc: 0.978536\tvalid's auc: 0.702759\n",
      "Fold  1 AUC : 0.702759\n",
      "Training until validation scores don't improve for 100 rounds.\n",
      "[100]\ttrain's auc: 0.838202\tvalid's auc: 0.663644\n",
      "[200]\ttrain's auc: 0.88479\tvalid's auc: 0.681296\n",
      "[300]\ttrain's auc: 0.912365\tvalid's auc: 0.687243\n",
      "[400]\ttrain's auc: 0.934643\tvalid's auc: 0.689809\n",
      "[500]\ttrain's auc: 0.949817\tvalid's auc: 0.692425\n",
      "[600]\ttrain's auc: 0.962488\tvalid's auc: 0.692618\n",
      "Early stopping, best iteration is:\n",
      "[526]\ttrain's auc: 0.953049\tvalid's auc: 0.693526\n",
      "Fold  2 AUC : 0.693526\n",
      "Training until validation scores don't improve for 100 rounds.\n",
      "[100]\ttrain's auc: 0.838272\tvalid's auc: 0.684004\n",
      "[200]\ttrain's auc: 0.868527\tvalid's auc: 0.703702\n",
      "[300]\ttrain's auc: 0.886107\tvalid's auc: 0.706897\n",
      "[400]\ttrain's auc: 0.893085\tvalid's auc: 0.710838\n",
      "[500]\ttrain's auc: 0.911339\tvalid's auc: 0.714615\n",
      "[600]\ttrain's auc: 0.928875\tvalid's auc: 0.71449\n",
      "Early stopping, best iteration is:\n",
      "[568]\ttrain's auc: 0.924092\tvalid's auc: 0.715532\n",
      "Fold  3 AUC : 0.715532\n",
      "Training until validation scores don't improve for 100 rounds.\n",
      "[100]\ttrain's auc: 0.835037\tvalid's auc: 0.650092\n",
      "[200]\ttrain's auc: 0.8846\tvalid's auc: 0.664055\n",
      "[300]\ttrain's auc: 0.91488\tvalid's auc: 0.674598\n",
      "[400]\ttrain's auc: 0.936652\tvalid's auc: 0.677034\n",
      "[500]\ttrain's auc: 0.953015\tvalid's auc: 0.680056\n",
      "[600]\ttrain's auc: 0.964241\tvalid's auc: 0.680725\n",
      "[700]\ttrain's auc: 0.972961\tvalid's auc: 0.680316\n",
      "Early stopping, best iteration is:\n",
      "[669]\ttrain's auc: 0.970902\tvalid's auc: 0.68104\n",
      "Fold  4 AUC : 0.681040\n",
      "Training until validation scores don't improve for 100 rounds.\n",
      "[100]\ttrain's auc: 0.840118\tvalid's auc: 0.658727\n",
      "[200]\ttrain's auc: 0.885147\tvalid's auc: 0.67891\n",
      "[300]\ttrain's auc: 0.914804\tvalid's auc: 0.688152\n",
      "[400]\ttrain's auc: 0.935325\tvalid's auc: 0.693261\n",
      "[500]\ttrain's auc: 0.95126\tvalid's auc: 0.696887\n",
      "[600]\ttrain's auc: 0.962685\tvalid's auc: 0.700207\n",
      "[700]\ttrain's auc: 0.972136\tvalid's auc: 0.702339\n",
      "[800]\ttrain's auc: 0.979027\tvalid's auc: 0.70552\n",
      "[900]\ttrain's auc: 0.984362\tvalid's auc: 0.705465\n",
      "[1000]\ttrain's auc: 0.987798\tvalid's auc: 0.706314\n",
      "Early stopping, best iteration is:\n",
      "[964]\ttrain's auc: 0.986636\tvalid's auc: 0.706774\n",
      "Fold  5 AUC : 0.706774\n",
      "Full AUC score 0.699642\n",
      "(15166, 585) (3793, 585) (6000, 585)\n",
      "Training until validation scores don't improve for 100 rounds.\n",
      "[100]\ttrain's auc: 0.867269\tvalid's auc: 0.664171\n",
      "[200]\ttrain's auc: 0.914192\tvalid's auc: 0.681632\n",
      "[300]\ttrain's auc: 0.944504\tvalid's auc: 0.684259\n",
      "[400]\ttrain's auc: 0.963998\tvalid's auc: 0.688992\n",
      "[500]\ttrain's auc: 0.976975\tvalid's auc: 0.692359\n",
      "[600]\ttrain's auc: 0.984965\tvalid's auc: 0.693936\n",
      "Early stopping, best iteration is:\n",
      "[587]\ttrain's auc: 0.983994\tvalid's auc: 0.694559\n",
      "Fold  1 AUC : 0.694559\n",
      "Training until validation scores don't improve for 100 rounds.\n",
      "[100]\ttrain's auc: 0.870307\tvalid's auc: 0.670849\n",
      "[200]\ttrain's auc: 0.914837\tvalid's auc: 0.682323\n",
      "[300]\ttrain's auc: 0.943048\tvalid's auc: 0.686117\n",
      "[400]\ttrain's auc: 0.962847\tvalid's auc: 0.692648\n",
      "[500]\ttrain's auc: 0.975822\tvalid's auc: 0.694476\n",
      "[600]\ttrain's auc: 0.984448\tvalid's auc: 0.69626\n",
      "[700]\ttrain's auc: 0.989563\tvalid's auc: 0.696998\n",
      "Early stopping, best iteration is:\n",
      "[639]\ttrain's auc: 0.986833\tvalid's auc: 0.698419\n",
      "Fold  2 AUC : 0.698419\n",
      "Training until validation scores don't improve for 100 rounds.\n",
      "[100]\ttrain's auc: 0.859172\tvalid's auc: 0.692651\n",
      "[200]\ttrain's auc: 0.894426\tvalid's auc: 0.70465\n",
      "[300]\ttrain's auc: 0.917109\tvalid's auc: 0.712667\n",
      "[400]\ttrain's auc: 0.925407\tvalid's auc: 0.715145\n",
      "[500]\ttrain's auc: 0.943983\tvalid's auc: 0.716868\n",
      "[600]\ttrain's auc: 0.961091\tvalid's auc: 0.717702\n",
      "Early stopping, best iteration is:\n",
      "[589]\ttrain's auc: 0.959995\tvalid's auc: 0.717848\n",
      "Fold  3 AUC : 0.717848\n",
      "Training until validation scores don't improve for 100 rounds.\n",
      "[100]\ttrain's auc: 0.86233\tvalid's auc: 0.653112\n",
      "[200]\ttrain's auc: 0.912882\tvalid's auc: 0.675484\n",
      "[300]\ttrain's auc: 0.943964\tvalid's auc: 0.684897\n",
      "[400]\ttrain's auc: 0.964254\tvalid's auc: 0.686334\n",
      "[500]\ttrain's auc: 0.976748\tvalid's auc: 0.685361\n",
      "Early stopping, best iteration is:\n",
      "[460]\ttrain's auc: 0.972414\tvalid's auc: 0.687757\n",
      "Fold  4 AUC : 0.687757\n",
      "Training until validation scores don't improve for 100 rounds.\n",
      "[100]\ttrain's auc: 0.860971\tvalid's auc: 0.662345\n",
      "[200]\ttrain's auc: 0.915151\tvalid's auc: 0.683924\n",
      "[300]\ttrain's auc: 0.945069\tvalid's auc: 0.690054\n",
      "[400]\ttrain's auc: 0.964415\tvalid's auc: 0.692823\n",
      "[500]\ttrain's auc: 0.97765\tvalid's auc: 0.694018\n",
      "[600]\ttrain's auc: 0.985504\tvalid's auc: 0.695161\n",
      "[700]\ttrain's auc: 0.990611\tvalid's auc: 0.696974\n",
      "[800]\ttrain's auc: 0.993834\tvalid's auc: 0.698391\n",
      "[900]\ttrain's auc: 0.996029\tvalid's auc: 0.699297\n",
      "Early stopping, best iteration is:\n",
      "[882]\ttrain's auc: 0.995648\tvalid's auc: 0.699853\n",
      "Fold  5 AUC : 0.699853\n",
      "Full AUC score 0.699563\n",
      "(15166, 585) (3793, 585) (6000, 585)\n",
      "Training until validation scores don't improve for 100 rounds.\n",
      "[100]\ttrain's auc: 0.833712\tvalid's auc: 0.657281\n",
      "[200]\ttrain's auc: 0.880913\tvalid's auc: 0.681104\n",
      "[300]\ttrain's auc: 0.910029\tvalid's auc: 0.686383\n",
      "[400]\ttrain's auc: 0.931059\tvalid's auc: 0.690861\n",
      "[500]\ttrain's auc: 0.946529\tvalid's auc: 0.691991\n",
      "[600]\ttrain's auc: 0.958232\tvalid's auc: 0.694594\n",
      "[700]\ttrain's auc: 0.96635\tvalid's auc: 0.696702\n",
      "[800]\ttrain's auc: 0.973813\tvalid's auc: 0.697888\n",
      "Early stopping, best iteration is:\n",
      "[765]\ttrain's auc: 0.971498\tvalid's auc: 0.698592\n",
      "Fold  1 AUC : 0.698592\n",
      "Training until validation scores don't improve for 100 rounds.\n",
      "[100]\ttrain's auc: 0.840504\tvalid's auc: 0.668053\n",
      "[200]\ttrain's auc: 0.882762\tvalid's auc: 0.680116\n",
      "[300]\ttrain's auc: 0.909601\tvalid's auc: 0.684986\n",
      "[400]\ttrain's auc: 0.930766\tvalid's auc: 0.687424\n",
      "[500]\ttrain's auc: 0.94577\tvalid's auc: 0.690668\n",
      "[600]\ttrain's auc: 0.957725\tvalid's auc: 0.692297\n",
      "[700]\ttrain's auc: 0.967595\tvalid's auc: 0.692812\n",
      "[800]\ttrain's auc: 0.973943\tvalid's auc: 0.692554\n",
      "Early stopping, best iteration is:\n",
      "[702]\ttrain's auc: 0.967874\tvalid's auc: 0.693067\n",
      "Fold  2 AUC : 0.693067\n",
      "Training until validation scores don't improve for 100 rounds.\n",
      "[100]\ttrain's auc: 0.834658\tvalid's auc: 0.679318\n",
      "[200]\ttrain's auc: 0.863905\tvalid's auc: 0.700461\n",
      "[300]\ttrain's auc: 0.880548\tvalid's auc: 0.706027\n",
      "[400]\ttrain's auc: 0.889305\tvalid's auc: 0.7065\n",
      "[500]\ttrain's auc: 0.906237\tvalid's auc: 0.711563\n",
      "[600]\ttrain's auc: 0.924147\tvalid's auc: 0.713406\n",
      "[700]\ttrain's auc: 0.932304\tvalid's auc: 0.713153\n",
      "[800]\ttrain's auc: 0.94337\tvalid's auc: 0.715596\n",
      "[900]\ttrain's auc: 0.954035\tvalid's auc: 0.718127\n",
      "[1000]\ttrain's auc: 0.958222\tvalid's auc: 0.71778\n",
      "Early stopping, best iteration is:\n",
      "[915]\ttrain's auc: 0.954689\tvalid's auc: 0.718422\n",
      "Fold  3 AUC : 0.718422\n",
      "Training until validation scores don't improve for 100 rounds.\n",
      "[100]\ttrain's auc: 0.835709\tvalid's auc: 0.64333\n",
      "[200]\ttrain's auc: 0.879921\tvalid's auc: 0.664357\n",
      "[300]\ttrain's auc: 0.912249\tvalid's auc: 0.674499\n",
      "[400]\ttrain's auc: 0.933107\tvalid's auc: 0.678563\n",
      "[500]\ttrain's auc: 0.949206\tvalid's auc: 0.680643\n",
      "[600]\ttrain's auc: 0.960807\tvalid's auc: 0.682812\n",
      "[700]\ttrain's auc: 0.969449\tvalid's auc: 0.682954\n",
      "Early stopping, best iteration is:\n",
      "[681]\ttrain's auc: 0.968229\tvalid's auc: 0.683545\n",
      "Fold  4 AUC : 0.683545\n",
      "Training until validation scores don't improve for 100 rounds.\n",
      "[100]\ttrain's auc: 0.839187\tvalid's auc: 0.660038\n",
      "[200]\ttrain's auc: 0.881395\tvalid's auc: 0.680034\n",
      "[300]\ttrain's auc: 0.910676\tvalid's auc: 0.691053\n",
      "[400]\ttrain's auc: 0.932373\tvalid's auc: 0.697942\n",
      "[500]\ttrain's auc: 0.947704\tvalid's auc: 0.700886\n",
      "[600]\ttrain's auc: 0.959519\tvalid's auc: 0.700804\n",
      "Early stopping, best iteration is:\n",
      "[578]\ttrain's auc: 0.956963\tvalid's auc: 0.70212\n",
      "Fold  5 AUC : 0.702120\n",
      "Full AUC score 0.699096\n",
      "(15166, 585) (3793, 585) (6000, 585)\n"
     ]
    },
    {
     "name": "stdout",
     "output_type": "stream",
     "text": [
      "Training until validation scores don't improve for 100 rounds.\n",
      "[100]\ttrain's auc: 0.821829\tvalid's auc: 0.659066\n",
      "[200]\ttrain's auc: 0.872042\tvalid's auc: 0.677806\n",
      "[300]\ttrain's auc: 0.898105\tvalid's auc: 0.686158\n",
      "[400]\ttrain's auc: 0.918351\tvalid's auc: 0.69342\n",
      "[500]\ttrain's auc: 0.933093\tvalid's auc: 0.694868\n",
      "[600]\ttrain's auc: 0.945154\tvalid's auc: 0.696281\n",
      "[700]\ttrain's auc: 0.955524\tvalid's auc: 0.697442\n",
      "[800]\ttrain's auc: 0.963886\tvalid's auc: 0.697721\n",
      "[900]\ttrain's auc: 0.97001\tvalid's auc: 0.697218\n",
      "Early stopping, best iteration is:\n",
      "[815]\ttrain's auc: 0.96492\tvalid's auc: 0.698161\n",
      "Fold  1 AUC : 0.698161\n",
      "Training until validation scores don't improve for 100 rounds.\n",
      "[100]\ttrain's auc: 0.8261\tvalid's auc: 0.66364\n",
      "[200]\ttrain's auc: 0.87096\tvalid's auc: 0.674709\n",
      "[300]\ttrain's auc: 0.898377\tvalid's auc: 0.680149\n",
      "[400]\ttrain's auc: 0.919059\tvalid's auc: 0.685643\n",
      "[500]\ttrain's auc: 0.933441\tvalid's auc: 0.688964\n",
      "[600]\ttrain's auc: 0.946041\tvalid's auc: 0.691102\n",
      "[700]\ttrain's auc: 0.956701\tvalid's auc: 0.694909\n",
      "[800]\ttrain's auc: 0.96436\tvalid's auc: 0.693795\n",
      "Early stopping, best iteration is:\n",
      "[746]\ttrain's auc: 0.960397\tvalid's auc: 0.695246\n",
      "Fold  2 AUC : 0.695246\n",
      "Training until validation scores don't improve for 100 rounds.\n",
      "[100]\ttrain's auc: 0.819953\tvalid's auc: 0.683213\n",
      "[200]\ttrain's auc: 0.853676\tvalid's auc: 0.701085\n",
      "[300]\ttrain's auc: 0.86848\tvalid's auc: 0.706109\n",
      "[400]\ttrain's auc: 0.87491\tvalid's auc: 0.709573\n",
      "[500]\ttrain's auc: 0.892959\tvalid's auc: 0.71167\n",
      "[600]\ttrain's auc: 0.910695\tvalid's auc: 0.715305\n",
      "[700]\ttrain's auc: 0.918067\tvalid's auc: 0.714458\n",
      "Early stopping, best iteration is:\n",
      "[624]\ttrain's auc: 0.912759\tvalid's auc: 0.716009\n",
      "Fold  3 AUC : 0.716009\n",
      "Training until validation scores don't improve for 100 rounds.\n",
      "[100]\ttrain's auc: 0.820398\tvalid's auc: 0.644016\n",
      "[200]\ttrain's auc: 0.86834\tvalid's auc: 0.664936\n",
      "[300]\ttrain's auc: 0.89862\tvalid's auc: 0.67523\n",
      "[400]\ttrain's auc: 0.919837\tvalid's auc: 0.680528\n",
      "[500]\ttrain's auc: 0.935984\tvalid's auc: 0.683539\n",
      "[600]\ttrain's auc: 0.947794\tvalid's auc: 0.684934\n",
      "[700]\ttrain's auc: 0.957549\tvalid's auc: 0.685882\n",
      "Early stopping, best iteration is:\n",
      "[646]\ttrain's auc: 0.952704\tvalid's auc: 0.686833\n",
      "Fold  4 AUC : 0.686833\n",
      "Training until validation scores don't improve for 100 rounds.\n",
      "[100]\ttrain's auc: 0.823595\tvalid's auc: 0.658569\n",
      "[200]\ttrain's auc: 0.869359\tvalid's auc: 0.682327\n",
      "[300]\ttrain's auc: 0.897469\tvalid's auc: 0.689326\n",
      "[400]\ttrain's auc: 0.916742\tvalid's auc: 0.692844\n",
      "[500]\ttrain's auc: 0.933696\tvalid's auc: 0.697357\n",
      "[600]\ttrain's auc: 0.945131\tvalid's auc: 0.698624\n",
      "[700]\ttrain's auc: 0.954898\tvalid's auc: 0.698831\n",
      "Early stopping, best iteration is:\n",
      "[677]\ttrain's auc: 0.952961\tvalid's auc: 0.700018\n",
      "Fold  5 AUC : 0.700018\n",
      "Full AUC score 0.698990\n"
     ]
    }
   ],
   "source": [
    "# params_list = [\n",
    "#  {'boosting_type': 'goss', 'colsample_bytree': 0.716607417156733, 'learning_rate': 0.015811886667625046, 'max_bin': 500, 'metric': 'auc', 'min_child_weight': 10.093000922782679, 'num_leaves': 130, 'reg_alpha': 30.944454789678236, 'reg_lambda': 879.1337900040899, 'subsample': 1.0},\n",
    "#  {'boosting_type': 'goss', 'colsample_bytree': 0.7551913691539023, 'learning_rate': 0.01602856038018904, 'max_bin': 540, 'metric': 'auc', 'min_child_weight': 7.891039000535216, 'num_leaves': 133, 'reg_alpha': 31.4245168486152, 'reg_lambda': 936.9319377239084, 'subsample': 1.0},\n",
    "#  {'boosting_type': 'goss', 'colsample_bytree': 0.7923762362682664, 'learning_rate': 0.015930856358996392, 'max_bin': 700, 'metric': 'auc', 'min_child_weight': 18.203954954853845, 'num_leaves': 100, 'reg_alpha': 14.731472593656346, 'reg_lambda': 794.8692731261094, 'subsample': 1.0},\n",
    "#  {'boosting_type': 'goss', 'colsample_bytree': 0.8297704970792237, 'learning_rate': 0.015164958618172615, 'max_bin': 740, 'metric': 'auc', 'min_child_weight': 19.6467664018521, 'num_leaves': 121, 'reg_alpha': 37.542451872400974, 'reg_lambda': 833.0943806882824, 'subsample': 1.0},\n",
    "#  {'boosting_type': 'goss', 'colsample_bytree': 0.7244912699084813, 'learning_rate': 0.015805821054741424, 'max_bin': 640, 'metric': 'auc', 'min_child_weight': 11.490023875792097, 'num_leaves': 162, 'reg_alpha': 42.76782716751604, 'reg_lambda': 907.1538382801542, 'subsample': 1.0}\n",
    "# ]\n",
    "# result = []\n",
    "# for i, params in enumerate(params_list):\n",
    "#     model_dir = \"../model_output/lgb_585/%d/\" % i\n",
    "#     result.append(cv(df, 5, params, model_dir))"
   ]
  },
  {
   "cell_type": "code",
   "execution_count": 65,
   "metadata": {},
   "outputs": [
    {
     "data": {
      "text/plain": [
       "[0.69995664514765588,\n",
       " 0.69964173542515751,\n",
       " 0.69956271123566216,\n",
       " 0.69909575305897964,\n",
       " 0.69899046301160739]"
      ]
     },
     "execution_count": 65,
     "metadata": {},
     "output_type": "execute_result"
    }
   ],
   "source": [
    "result"
   ]
  },
  {
   "cell_type": "code",
   "execution_count": null,
   "metadata": {},
   "outputs": [],
   "source": []
  }
 ],
 "metadata": {
  "kernelspec": {
   "display_name": "Python 3",
   "language": "python",
   "name": "python3"
  },
  "language_info": {
   "codemirror_mode": {
    "name": "ipython",
    "version": 3
   },
   "file_extension": ".py",
   "mimetype": "text/x-python",
   "name": "python",
   "nbconvert_exporter": "python",
   "pygments_lexer": "ipython3",
   "version": "3.6.4"
  }
 },
 "nbformat": 4,
 "nbformat_minor": 2
}
