{
 "cells": [
  {
   "cell_type": "code",
   "execution_count": 701,
   "metadata": {},
   "outputs": [],
   "source": [
    "import pandas as pd\n",
    "import numpy as np\n",
    "import gc\n",
    "import time\n",
    "from contextlib import contextmanager\n",
    "import lightgbm as lgb\n",
    "import xgboost as xgb\n",
    "from sklearn.metrics import roc_auc_score, roc_curve, f1_score\n",
    "from sklearn.model_selection import KFold, StratifiedKFold\n",
    "import matplotlib.pyplot as plt\n",
    "import seaborn as sns\n",
    "import warnings\n",
    "import category_encoders as ce\n",
    "import pickle\n",
    "from sklearn.svm import SVC\n",
    "import os\n",
    "from sklearn.linear_model import LogisticRegression\n",
    "warnings.simplefilter(action='ignore', category=FutureWarning)"
   ]
  },
  {
   "cell_type": "code",
   "execution_count": 702,
   "metadata": {},
   "outputs": [],
   "source": [
    "train = pd.read_csv(\"../data/sample_train.txt\", delimiter=\"\\t\")\n",
    "test = pd.read_csv(\"../data/test_id.txt\", delimiter=\"\\t\")\n",
    "df = pd.concat([train, test], axis=0)"
   ]
  },
  {
   "cell_type": "code",
   "execution_count": 703,
   "metadata": {},
   "outputs": [],
   "source": [
    "# dp_knn = pd.read_csv(\"../features/knn/dp_knn_100.csv\")\n",
    "# df = df.merge(dp_knn, on=\"id\", how=\"left\")"
   ]
  },
  {
   "cell_type": "markdown",
   "metadata": {},
   "source": [
    "# 加载训练好的模型结果"
   ]
  },
  {
   "cell_type": "code",
   "execution_count": 704,
   "metadata": {},
   "outputs": [
    {
     "name": "stdout",
     "output_type": "stream",
     "text": [
      "182.0 -146.0\n",
      "194.0 -174.0\n",
      "265.0 -138.0\n",
      "195.0 -206.0\n",
      "213.0 -159.0\n"
     ]
    }
   ],
   "source": [
    "\n",
    "model_dir = \"../model_output//\"\n",
    "for i in range(5):\n",
    "    pred_train = pd.read_csv(model_dir + str(i) + \"/pred_train.csv\")\n",
    "    pred_test = pd.read_csv(model_dir + str(i) + \"/all_test_preds.csv\")\n",
    "    \n",
    "    pred_train['rank_prob'] = pred_train.prob.rank() / train.shape[0]\n",
    "    pred_test[\"rank_prob\"] = pred_test.groupby(\"fold_id\").prob.rank() / valid.shape[0]\n",
    "    pred_test = pred_test.groupby(\"id\").mean().reset_index().drop(\"fold_id\", axis=1)\n",
    "    \n",
    "    a = pred_test.prob.rank()\n",
    "    b = pred_test.rank_prob.rank()\n",
    "\n",
    "    diff = a - b\n",
    "    print(diff.max(), diff.min())\n",
    "    \n",
    "    d = pd.concat([pred_train, pred_test], axis=0)\n",
    "    d = d.rename(columns={\"prob\": \"42_%d_prob\" % i, \"rank_prob\": \"42_%d_rank_prob\" % i})\n",
    "    \n",
    "    df = df.merge(d, on=\"id\", how=\"left\")"
   ]
  },
  {
   "cell_type": "code",
   "execution_count": 705,
   "metadata": {},
   "outputs": [
    {
     "name": "stdout",
     "output_type": "stream",
     "text": [
      "198.0 -267.0\n",
      "210.0 -312.0\n",
      "238.0 -292.0\n"
     ]
    }
   ],
   "source": [
    "model_dir = \"../model_output/B/\"\n",
    "\n",
    "paras = pd.read_csv(model_dir + \"params_41.csv\").sort_values(\"score\", ascending=False)\n",
    "\n",
    "for i in paras.iloc[:3].iteration:\n",
    "    pred_train = pd.read_csv(model_dir + str(i) + \"/pred_train.csv\")\n",
    "    pred_test = pd.read_csv(model_dir + str(i) + \"/all_test_preds.csv\")\n",
    "    \n",
    "    pred_train['rank_prob'] = pred_train.prob.rank() / train.shape[0]\n",
    "    pred_test[\"rank_prob\"] = pred_test.groupby(\"fold_id\").prob.rank() / valid.shape[0]\n",
    "    pred_test = pred_test.groupby(\"id\").mean().reset_index().drop(\"fold_id\", axis=1)\n",
    "    \n",
    "    a = pred_test.prob.rank()\n",
    "    b = pred_test.rank_prob.rank()\n",
    "\n",
    "    diff = a - b\n",
    "    print(diff.max(), diff.min())\n",
    "    \n",
    "    d = pd.concat([pred_train, pred_test], axis=0)\n",
    "    d = d.rename(columns={\"prob\": \"41_%d_prob\" % i, \"rank_prob\": \"41_%d_rank_prob\" % i})\n",
    "    \n",
    "    df = df.merge(d, on=\"id\", how=\"left\")"
   ]
  },
  {
   "cell_type": "code",
   "execution_count": null,
   "metadata": {},
   "outputs": [],
   "source": []
  },
  {
   "cell_type": "markdown",
   "metadata": {},
   "source": [
    "# 训练"
   ]
  },
  {
   "cell_type": "code",
   "execution_count": 706,
   "metadata": {},
   "outputs": [],
   "source": [
    "def display_importances(feature_importance_df_):\n",
    "    cols = feature_importance_df_[[\"feature\", \"importance\"]].groupby(\"feature\").mean().sort_values(by=\"importance\", ascending=False)[:40].index\n",
    "    best_features = feature_importance_df_.loc[feature_importance_df_.feature.isin(cols)]\n",
    "    plt.figure(figsize=(8, 10))\n",
    "    sns.barplot(x=\"importance\", y=\"feature\", data=best_features.sort_values(by=\"importance\", ascending=False))\n",
    "    plt.title('LightGBM Features (avg over folds)')\n",
    "    plt.tight_layout()\n",
    "    plt.savefig('lgbm_importances01.png')"
   ]
  },
  {
   "cell_type": "code",
   "execution_count": 707,
   "metadata": {},
   "outputs": [],
   "source": [
    "def  process_feature(train_x, valid_x, test_df):\n",
    "    result = []\n",
    "    drop_cols = ['id','label']\n",
    "    for df in [train_x, valid_x, test_df]:\n",
    "        result.append(df.drop(drop_cols, axis=1))\n",
    "    return result "
   ]
  },
  {
   "cell_type": "code",
   "execution_count": 708,
   "metadata": {},
   "outputs": [],
   "source": [
    "def cv(df, num_folds, param, model_dir, classfier=\"lr\", stratified=True, debug=False):\n",
    "    if not os.path.exists(model_dir):\n",
    "        os.mkdir(model_dir)\n",
    "    train_df = df[df.label.notnull()]\n",
    "    test_df = df[df.label.isnull()]\n",
    "    if stratified:\n",
    "        folds = StratifiedKFold(n_splits= num_folds, shuffle=True, random_state=1001)\n",
    "    else:\n",
    "        folds = KFold(n_splits= num_folds, shuffle=True, random_state=1001)\n",
    "\n",
    "    oof_preds = np.zeros(train_df.shape[0])\n",
    "    all_test_preds = []    \n",
    "    feature_importance_df = pd.DataFrame()\n",
    "#     feats = [f for f in train_df.columns if f not in ['id','label', \"prob\", \"tag\", \"loan_dt\"]]\n",
    "    for n_fold, (train_idx, valid_idx) in enumerate(folds.split(train_df, train_df['label'])):\n",
    "        train_x, train_y = train_df.iloc[train_idx], train_df['label'].iloc[train_idx]\n",
    "        valid_x, valid_y = train_df.iloc[valid_idx], train_df['label'].iloc[valid_idx]\n",
    "        fold_preds = test_df[[\"id\"]]\n",
    "        \n",
    "        train_x, valid_x, test = process_feature(train_x, valid_x, test_df)\n",
    "        if n_fold == 0:\n",
    "            print(train_x.shape, valid_x.shape, test.shape)\n",
    "        \n",
    "        if classfier == \"lgb\":\n",
    "            train_data = lgb.Dataset(train_x, label=train_y)\n",
    "            validation_data = lgb.Dataset(valid_x, label=valid_y)\n",
    "\n",
    "            clf=lgb.train(params,\n",
    "                          train_data,\n",
    "                          num_boost_round=10000,\n",
    "                          valid_sets=[train_data, validation_data],\n",
    "                          valid_names=[\"train\", \"valid\"],\n",
    "                          early_stopping_rounds=200,\n",
    "                          verbose_eval=100)\n",
    "\n",
    "            valid_preds = clf.predict(valid_x, num_iteration=clf.best_iteration)\n",
    "            test_preds = clf.predict(test, num_iteration=clf.best_iteration)\n",
    "        \n",
    "        if classfier == \"lr\":\n",
    "            clf = LogisticRegression(penalty=\"l2\", solver=\"sag\", n_jobs=32)\n",
    "            clf.fit(train_x, train_y)\n",
    "\n",
    "            valid_preds = clf.predict_proba(valid_x)[:, 1]\n",
    "            test_preds = clf.predict_proba(test)[:, 1]\n",
    "\n",
    "        fold_preds['prob'] = test_preds\n",
    "        fold_preds['fold_id'] = n_fold + 1\n",
    "        all_test_preds.append(fold_preds)\n",
    "\n",
    "        oof_preds[valid_idx] = valid_preds\n",
    "        \n",
    "        if classfier == \"lgb\":\n",
    "            fold_importance_df = pd.DataFrame()\n",
    "            fold_importance_df[\"feature\"] = train_x.columns.tolist()\n",
    "            fold_importance_df[\"importance\"] = clf.feature_importance()\n",
    "            fold_importance_df[\"fold\"] = n_fold + 1\n",
    "            feature_importance_df = pd.concat([feature_importance_df, fold_importance_df], axis=0)\n",
    "        print('Fold %2d AUC : %.6f' % (n_fold + 1, roc_auc_score(valid_y, valid_preds)))\n",
    "        \n",
    "        del clf, train_x, train_y, valid_x, valid_y\n",
    "        gc.collect()\n",
    "    print('Full AUC score %.6f' % roc_auc_score(train_df['label'], oof_preds))\n",
    "    \n",
    "    if not debug:\n",
    "        train_df[\"prob\"] = oof_preds\n",
    "        train_df[['id', 'prob']].to_csv(model_dir + \"pred_train.csv\", index= False)\n",
    "\n",
    "        all_test_preds = pd.concat(all_test_preds, axis=0)\n",
    "        all_test_preds.to_csv(model_dir + \"all_test_preds.csv\", index=False)\n",
    "        \n",
    "        sub = pd.DataFrame()\n",
    "        sub['id'] = all_test_preds.id.unique()\n",
    "        sub.set_index(\"id\", inplace=True)\n",
    "        sub[\"prob\"] = all_test_preds.groupby(\"id\").prob.mean()\n",
    "        sub.reset_index().to_csv(model_dir + \"sub_test.txt\", index=False)\n",
    "    if classfier == \"lgb\":\n",
    "        display_importances(feature_importance_df)\n",
    "    return"
   ]
  },
  {
   "cell_type": "code",
   "execution_count": 709,
   "metadata": {},
   "outputs": [
    {
     "name": "stdout",
     "output_type": "stream",
     "text": [
      "(15166, 16) (3793, 16) (4000, 16)\n"
     ]
    },
    {
     "name": "stderr",
     "output_type": "stream",
     "text": [
      "/home/LAB/yanhao/anaconda3/lib/python3.6/site-packages/ipykernel_launcher.py:46: SettingWithCopyWarning: \n",
      "A value is trying to be set on a copy of a slice from a DataFrame.\n",
      "Try using .loc[row_indexer,col_indexer] = value instead\n",
      "\n",
      "See the caveats in the documentation: http://pandas.pydata.org/pandas-docs/stable/indexing.html#indexing-view-versus-copy\n",
      "/home/LAB/yanhao/anaconda3/lib/python3.6/site-packages/ipykernel_launcher.py:47: SettingWithCopyWarning: \n",
      "A value is trying to be set on a copy of a slice from a DataFrame.\n",
      "Try using .loc[row_indexer,col_indexer] = value instead\n",
      "\n",
      "See the caveats in the documentation: http://pandas.pydata.org/pandas-docs/stable/indexing.html#indexing-view-versus-copy\n"
     ]
    },
    {
     "name": "stdout",
     "output_type": "stream",
     "text": [
      "Fold  1 AUC : 0.720431\n",
      "Fold  2 AUC : 0.721972\n",
      "Fold  3 AUC : 0.716434\n",
      "Fold  4 AUC : 0.693365\n",
      "Fold  5 AUC : 0.709078\n",
      "Full AUC score 0.711951\n"
     ]
    },
    {
     "name": "stderr",
     "output_type": "stream",
     "text": [
      "/home/LAB/yanhao/anaconda3/lib/python3.6/site-packages/ipykernel_launcher.py:65: SettingWithCopyWarning: \n",
      "A value is trying to be set on a copy of a slice from a DataFrame.\n",
      "Try using .loc[row_indexer,col_indexer] = value instead\n",
      "\n",
      "See the caveats in the documentation: http://pandas.pydata.org/pandas-docs/stable/indexing.html#indexing-view-versus-copy\n"
     ]
    }
   ],
   "source": [
    "params = {'boosting_type': 'goss', \n",
    "          'colsample_bytree': 0.6188451188326409, \n",
    "          'learning_rate': 0.02278643912197006,\n",
    "          'max_bin': 200, \n",
    "          'metric': 'auc', \n",
    "          'min_child_weight': 19.91986754624656,\n",
    "          'num_leaves': 71, \n",
    "          'reg_alpha': 3.6554523524605216, \n",
    "          'reg_lambda': 2676.0505164555602, \n",
    "          'subsample': 1.0}\n",
    "model_dir = \"../model_output/stacking/\"\n",
    "result = cv(df, 5, params, model_dir, \"lr\")"
   ]
  },
  {
   "cell_type": "code",
   "execution_count": 710,
   "metadata": {},
   "outputs": [],
   "source": [
    "# pred_test = pd.read_csv(\"../model_output/stacking/all_test_preds.csv\")\n",
    "# pred_test[\"rank_prob\"] = pred_test.groupby(\"fold_id\").prob.rank() / valid.shape[0]\n",
    "# pred_test = pred_test.groupby(\"id\").mean().reset_index().drop(\"fold_id\", axis=1)\n",
    "# pred_test.head()"
   ]
  }
 ],
 "metadata": {
  "kernelspec": {
   "display_name": "Python 3",
   "language": "python",
   "name": "python3"
  },
  "language_info": {
   "codemirror_mode": {
    "name": "ipython",
    "version": 3
   },
   "file_extension": ".py",
   "mimetype": "text/x-python",
   "name": "python",
   "nbconvert_exporter": "python",
   "pygments_lexer": "ipython3",
   "version": "3.6.4"
  }
 },
 "nbformat": 4,
 "nbformat_minor": 2
}
